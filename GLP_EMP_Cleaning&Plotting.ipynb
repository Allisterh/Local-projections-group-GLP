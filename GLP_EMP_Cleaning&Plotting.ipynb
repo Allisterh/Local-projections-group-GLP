{
 "cells": [
  {
   "cell_type": "code",
   "execution_count": null,
   "metadata": {
    "ExecuteTime": {
     "end_time": "2020-01-08T15:32:47.099899Z",
     "start_time": "2020-01-08T15:32:23.066507Z"
    }
   },
   "outputs": [],
   "source": [
    "# required packages: geopandas & plotly\n",
    "# For plotly, simply use \n",
    "# conda \n",
    "# installing geopands on windows can be tricky, see below for a solution"
   ]
  },
  {
   "cell_type": "code",
   "execution_count": 1,
   "metadata": {
    "ExecuteTime": {
     "end_time": "2022-04-23T11:49:40.966293Z",
     "start_time": "2022-04-23T11:49:38.697588Z"
    }
   },
   "outputs": [],
   "source": [
    "import re \n",
    "import pandas as pd \n",
    "import numpy as np\n",
    "pd.options.display.max_rows = 100\n",
    "pd.options.display.max_columns = 50\n",
    "\n",
    "# plotting\n",
    "import plotly.express as px\n",
    "import plotly.figure_factory as ff"
   ]
  },
  {
   "cell_type": "markdown",
   "metadata": {
    "heading_collapsed": true
   },
   "source": [
    "## Installation guide: geopandas"
   ]
  },
  {
   "cell_type": "markdown",
   "metadata": {
    "hidden": true
   },
   "source": [
    "There are two steps:\n",
    "\n",
    "1. download packages from: https://www.lfd.uci.edu/~gohlke/pythonlibs/\n",
    "\n",
    "We need 1) GDAL; 2) pyproj; 3)Fiona; 4) Shapely; and 5) geopandas\n",
    "\n",
    "Get the correct version. For example, with python 3.8.x on a x64 OS, we need GDAL‑3.1.4‑cp38‑cp38‑win_amd64.whl\n",
    "\n",
    "2. install the packages\n",
    "\n",
    "open cmd (anaconda), and cd to the folder with these packages\n",
    "`cd/d F:\\DataMining\\geopandas`\n",
    "\n",
    "install packages (you only need to type: pip install xx and use tab to autofill the file names)\n",
    "`pip install GDAL-3.1.4-cp38-cp38-win_amd64.whl\n",
    "pip install pyproj-3.0.0.post1-cp38-cp38-win_amd64.whl\n",
    "pip install Fiona-1.8.18-cp38-cp38-win_amd64.whl\n",
    "pip install Shapely-1.7.1-cp38-cp38-win_amd64.whl\n",
    "pip install geopandas-0.8.1-py3-none-any.whl`"
   ]
  },
  {
   "cell_type": "markdown",
   "metadata": {
    "heading_collapsed": true
   },
   "source": [
    "# main data for empirical application\n",
    "\n",
    "Input: `MSAs_SA.xls`, `macro.csv` and `FRM30.csv`\n",
    "\n",
    "Output: `MSA_list.csv`, `empirical_main.csv`"
   ]
  },
  {
   "cell_type": "code",
   "execution_count": 2,
   "metadata": {
    "ExecuteTime": {
     "end_time": "2022-04-22T08:49:07.579761Z",
     "start_time": "2022-04-22T08:49:06.779021Z"
    },
    "hidden": true
   },
   "outputs": [],
   "source": [
    "## read house price index from Freddie Mac\n",
    "hpi_1 = pd.read_excel('./data/raw/MSAs_SA.xls',sheet_name='MSA Indices SA A-L',skiprows=5)\n",
    "hpi_2 = pd.read_excel('./data/raw/MSAs_SA.xls',sheet_name='MSA Indices SA M-Z',skiprows=5)\n",
    "hpi = pd.concat([hpi_1.iloc[:,:-1],hpi_2.iloc[:,1:]],axis=1)\n",
    "hpi = hpi.dropna()\n",
    "\n",
    "# store the list of MSA names\n",
    "MSA_list = pd.DataFrame(hpi.columns[1:])\n",
    "MSA_list.columns = ['MSA']\n",
    "MSA_list.to_csv('./data/MSA_list.csv',index=False)\n",
    "\n",
    "# transform wide to lon\n",
    "hpi = hpi.melt(id_vars='Month')\n",
    "hpi.columns = ['date','MSA','HPI']\n",
    "hpi['HPI'] = hpi.HPI.astype('float')"
   ]
  },
  {
   "cell_type": "code",
   "execution_count": 3,
   "metadata": {
    "ExecuteTime": {
     "end_time": "2022-04-22T08:49:11.475258Z",
     "start_time": "2022-04-22T08:49:09.725394Z"
    },
    "hidden": true
   },
   "outputs": [
    {
     "name": "stderr",
     "output_type": "stream",
     "text": [
      "C:\\Users\\Carl\\AppData\\Local\\Temp\\ipykernel_37952\\928632152.py:2: DtypeWarning: Columns (3) have mixed types. Specify dtype option on import or set low_memory=False.\n",
      "  unrate = pd.read_csv('./data/raw/la.data.60.Metro.txt',sep='\\t')\n"
     ]
    }
   ],
   "source": [
    "# unrate \n",
    "unrate = pd.read_csv('./data/raw/la.data.60.Metro.txt',sep='\\t')\n",
    "\n",
    "#  select unrate\n",
    "unrate['measure_code'] = unrate.iloc[:,0].apply(lambda x: x.lstrip().rstrip()[-2:])\n",
    "unrate = unrate.loc[unrate.measure_code=='03']\n",
    "\n",
    "# extract cbsa code\n",
    "unrate['cbsa'] = unrate.iloc[:,0].apply(lambda x: x.lstrip().rstrip()[7:12])\n",
    "\n",
    "# keep unadjusted series\n",
    "unrate = unrate.loc[unrate.iloc[:,0].str.contains('LAU')]\n",
    "\n",
    "# drop annual average \n",
    "unrate = unrate.loc[~unrate.iloc[:,2].str.contains('M13'),:]\n",
    "\n",
    "# clean up\n",
    "unrate['date'] = unrate.iloc[:,1].astype(str)+unrate.iloc[:,2]\n",
    "unrate = unrate.iloc[:,[-1,-2,3]]\n",
    "unrate.columns =['date','cbsa','UR']\n",
    "\n",
    "# merge with names\n",
    "area = pd.read_csv('./data/raw/la.area.txt',sep='\\t')\n",
    "area = area.loc[area.area_code.str.contains('MT'),:]\n",
    "area['cbsa'] = area.area_code.apply(lambda x: x[4:9])\n",
    "area['MSA'] = area.area_text.str.replace('Metropolitan Statistical Area','').str.lstrip().str.rstrip()\n",
    "area['MSA'] = area.MSA.str.replace('Metropolitan NECTA','').str.lstrip().str.rstrip()\n",
    "area['MSA'] = area.MSA.str.replace('Boston-Cambridge-Nashua, MA-NH','Boston-Cambridge-Newton, MA-NH')\n",
    "area['MSA'] = area.MSA.str.replace('Macon-Bibb County, GA','Macon, GA')\n",
    "area['MSA'] = area.MSA.str.replace('Manchester, NH','Manchester-Nashua, NH')\n",
    "area['MSA'] = area.MSA.str.replace('New Haven, CT','New Haven-Milford, CT')\n",
    "area['MSA'] = area.MSA.str.replace('Norwich-New London-Westerly, CT-RI','Norwich-New London, CT')\n",
    "area['MSA'] = area.MSA.str.replace('Springfield, MA-CT','Springfield, MA')\n",
    "area = area.iloc[:,[-1,-2]]\n",
    "\n",
    "unrate = unrate.merge(area,on='cbsa')\n",
    "\n",
    "hpi = hpi.merge(unrate,on=['date','MSA'],how='left')"
   ]
  },
  {
   "cell_type": "code",
   "execution_count": 4,
   "metadata": {
    "ExecuteTime": {
     "end_time": "2022-04-22T08:49:12.169813Z",
     "start_time": "2022-04-22T08:49:12.144886Z"
    },
    "hidden": true
   },
   "outputs": [],
   "source": [
    "# read macro.csv\n",
    "macro = pd.read_csv('./data/macro.csv',skiprows=[1])"
   ]
  },
  {
   "cell_type": "code",
   "execution_count": 5,
   "metadata": {
    "ExecuteTime": {
     "end_time": "2022-04-22T08:49:13.073332Z",
     "start_time": "2022-04-22T08:49:13.046273Z"
    },
    "hidden": true
   },
   "outputs": [],
   "source": [
    "# read FRM30.csv, convert it to monthly data\n",
    "frm = pd.read_csv('./data/FRM30.csv')\n",
    "frm.date = frm.date.apply(lambda x: x.split('/')[0]+'M'+x.split('/')[1].zfill(2))\n",
    "frm = frm.groupby('date').mean().reset_index()"
   ]
  },
  {
   "cell_type": "code",
   "execution_count": 6,
   "metadata": {
    "ExecuteTime": {
     "end_time": "2022-04-22T08:49:14.225207Z",
     "start_time": "2022-04-22T08:49:13.947527Z"
    },
    "hidden": true
   },
   "outputs": [],
   "source": [
    "# merge\n",
    "df = pd.merge(hpi,macro,how='outer',on='date')\n",
    "df = df.merge(frm,how='left',on='date')\n",
    "df['date'] = pd.to_datetime(df.date,format='%YM%m')\n",
    "df = df.sort_values(['MSA','date']).reset_index(drop=True)"
   ]
  },
  {
   "cell_type": "code",
   "execution_count": 7,
   "metadata": {
    "ExecuteTime": {
     "end_time": "2022-04-22T08:49:15.724541Z",
     "start_time": "2022-04-22T08:49:14.903448Z"
    },
    "hidden": true
   },
   "outputs": [],
   "source": [
    "df['INFL_H'] = pd.concat([df.loc[:,['date','MSA']],np.log(df.HPI)],axis=1).groupby('MSA').HPI.diff()*100\n",
    "df['GRPI'] = pd.concat([df.loc[:,['date','MSA']],np.log(df.RPI)],axis=1).groupby('MSA').RPI.diff()*100\n",
    "df['GIP'] = pd.concat([df.loc[:,['date','MSA']],np.log(df.INDPRO)],axis=1).groupby('MSA').INDPRO.diff()*100\n",
    "df['GHOUST'] = pd.concat([df.loc[:,['date','MSA']],np.log(df.HOUST)],axis=1).groupby('MSA').HOUST.diff()*100\n",
    "df['GPERMIT'] = pd.concat([df.loc[:,['date','MSA']],np.log(df.PERMIT)],axis=1).groupby('MSA').PERMIT.diff()*100\n",
    "df['GREALLN'] = pd.concat([df.loc[:,['date','MSA']],np.log(df.REALLN)],axis=1).groupby('MSA').REALLN.diff()*100\n",
    "df['INFL_CPI'] = pd.concat([df.loc[:,['date','MSA']],np.log(df.CPIAUCSL)],axis=1).groupby('MSA').CPIAUCSL.diff()*100\n",
    "df['INFL_PCE'] = pd.concat([df.loc[:,['date','MSA']],np.log(df.PCEPI)],axis=1).groupby('MSA').PCEPI.diff()*100\n",
    "df['RINFL_H'] = df['INFL_H'] - df['INFL_PCE']"
   ]
  },
  {
   "cell_type": "code",
   "execution_count": 8,
   "metadata": {
    "ExecuteTime": {
     "end_time": "2022-04-22T08:49:23.581695Z",
     "start_time": "2022-04-22T08:49:17.246874Z"
    },
    "hidden": true
   },
   "outputs": [],
   "source": [
    "df.to_csv('./data/empirical_main.csv',index=False)"
   ]
  },
  {
   "cell_type": "markdown",
   "metadata": {
    "heading_collapsed": true
   },
   "source": [
    "# MSA features"
   ]
  },
  {
   "cell_type": "markdown",
   "metadata": {
    "hidden": true
   },
   "source": [
    "Input: `MSA_list.csv`, `EconProfile_MSA.csv`, `GDP_MSA`, `household-debt-by-msa.csv`, `HOUSING_SUPPLY.dta`\n",
    "\n",
    "Output: `MSA_features.csv`, which can be easily merged (using the column `MSA_old` with the grouping outcomes given by the GLP"
   ]
  },
  {
   "cell_type": "markdown",
   "metadata": {
    "hidden": true
   },
   "source": [
    "## Economic Profiles & Debt-to-Income Ratios"
   ]
  },
  {
   "cell_type": "code",
   "execution_count": 8,
   "metadata": {
    "ExecuteTime": {
     "end_time": "2022-04-01T16:35:15.041381Z",
     "start_time": "2022-04-01T16:35:15.028722Z"
    },
    "hidden": true
   },
   "outputs": [],
   "source": [
    "MSA_rule = {'Albany-Lebanon, OR' : 'Albany, OR',\n",
    "            'Anniston-Oxford-Jacksonville, AL' : 'Anniston-Oxford, AL',\n",
    "            'Atlanta-Sandy Springs-Roswell, GA' : 'Atlanta-Sandy Springs-Alpharetta, GA',\n",
    "            'Austin-Round Rock, TX' : 'Austin-Round Rock-Georgetown, TX',\n",
    "            'Bend-Redmond, OR' : 'Bend, OR',\n",
    "            'Blacksburg-Christiansburg-Radford, VA' :  'Blacksburg-Christiansburg, VA',\n",
    "            'Bremerton-Silverdale, WA' : 'Bremerton-Silverdale-Port Orchard, WA',\n",
    "            'Buffalo-Cheektowaga-Niagara Falls, NY' : 'Buffalo-Cheektowaga, NY',\n",
    "            'Dayton-Kettering, OH' :  'Dayton, OH',\n",
    "            'Eugene, OR' : 'Eugene-Springfield, OR',\n",
    "            'Fayetteville-Springdale-Rogers, AR-MO' : 'Fayetteville-Springdale-Rogers, AR',\n",
    "            'Grand Rapids-Wyoming, MI' :  'Grand Rapids-Kentwood, MI',\n",
    "            'Greenville-Anderson-Mauldin, SC' :  'Greenville-Anderson, SC',\n",
    "            'Gulfport-Biloxi-Pascagoula, MS' :  'Gulfport-Biloxi, MS',\n",
    "            'Eugene, OR' : 'Eugene-Springfield, OR',\n",
    "            'Grand Rapids-Wyoming, MI' :  'Grand Rapids-Kentwood, MI',\n",
    "            'Greenville-Anderson-Mauldin, SC' :  'Greenville-Anderson, SC',\n",
    "            'Gulfport-Biloxi-Pascagoula, MS' :  'Gulfport-Biloxi, MS',\n",
    "            'Hilton Head Island-Bluffton-Beaufort, SC' : 'Hilton Head Island-Bluffton, SC',\n",
    "            'Hartford-West Hartford-East Hartford, CT':'Hartford-East Hartford-Middletown, CT',\n",
    "            'Kingsport-Bristol-Bristol, TN-VA' : 'Kingsport-Bristol, TN-VA',\n",
    "            'Mankato-North Mankato, MN' :  'Mankato, MN',\n",
    "            'Macon, GA':'Macon-Bibb County, GA',\n",
    "            'Miami-Fort Lauderdale-West Palm Beach, FL' : 'Miami-Fort Lauderdale-Pompano Beach, FL',\n",
    "            'Milwaukee-Waukesha-West Allis, WI' : 'Milwaukee-Waukesha, WI',\n",
    "            'Naples-Immokalee-Marco Island, FL' : 'Naples-Marco Island, FL',\n",
    "            'Niles-Benton Harbor, MI' : 'Niles, MI',\n",
    "            'Olympia-Tumwater, WA' :  'Olympia-Lacey-Tumwater, WA',\n",
    "            'Prescott, AZ' :  'Prescott Valley-Prescott, AZ',\n",
    "            'Phoenix-Mesa-Scottsdale, AZ':'Phoenix-Mesa-Chandler, AZ',\n",
    "            'Raleigh-Cary, NC' :  'Raleigh, NC',\n",
    "            'Sacramento--Roseville--Arden-Arcade, CA' :  'Sacramento-Roseville-Folsom, CA',\n",
    "            'San Diego-Carlsbad, CA' :  'San Diego-Chula Vista-Carlsbad, CA',\n",
    "            'San Francisco-Oakland-Hayward, CA' :  'San Francisco-Oakland-Berkeley, CA',\n",
    "            'San Luis Obispo-Paso Robles-Arroyo Grande, CA' :  'San Luis Obispo-Paso Robles, CA',\n",
    "            'Santa Rosa, CA' :   'Santa Rosa-Petaluma, CA',\n",
    "            'Scranton--Wilkes-Barre, PA' : 'Scranton--Wilkes-Barre--Hazleton, PA',\n",
    "            'Sebring, FL' :  'Sebring-Avon Park, FL',\n",
    "            'Staunton-Waynesboro, VA' : 'Staunton, VA',\n",
    "            'Stockton-Lodi, CA' : 'Stockton, CA',\n",
    "            'Trenton, NJ' : 'Trenton-Princeton, NJ',\n",
    "            'Vallejo-Fairfield, CA' :  'Vallejo, CA',\n",
    "            'Visalia-Porterville, CA' : 'Visalia, CA',\n",
    "            'Wausau, WI' : 'Wausau-Weston, WI'}"
   ]
  },
  {
   "cell_type": "code",
   "execution_count": 9,
   "metadata": {
    "ExecuteTime": {
     "end_time": "2022-04-01T16:35:15.886774Z",
     "start_time": "2022-04-01T16:35:15.864085Z"
    },
    "hidden": true
   },
   "outputs": [],
   "source": [
    "# read profile\n",
    "prof = pd.read_csv('./data/raw/EconProfile_MSA.csv',skiprows=4)\n",
    "prof = prof.dropna()\n",
    "prof = prof.loc[prof.GeoName.str.contains(','),['GeoFips','GeoName','Description','2017']]\n",
    "prof = prof.pivot(index='GeoName', columns='Description',values='2017').reset_index()\n",
    "# clean MSA names\n",
    "prof['GeoName'] = prof.GeoName.str.replace(r'\\s\\(.*\\).*','',regex=True)"
   ]
  },
  {
   "cell_type": "code",
   "execution_count": 10,
   "metadata": {
    "ExecuteTime": {
     "end_time": "2022-04-01T16:35:16.745065Z",
     "start_time": "2022-04-01T16:35:16.727801Z"
    },
    "hidden": true
   },
   "outputs": [],
   "source": [
    "# read profile\n",
    "gdp = pd.read_csv('./data/raw/GDP_MSA.csv',skiprows=4)\n",
    "gdp = gdp.dropna()\n",
    "gdp = gdp.loc[gdp.GeoName.str.contains(','),['GeoFips','GeoName','2017']]\n",
    "gdp['GeoName'] = gdp.GeoName.str.replace(r'\\s\\(.*\\).*','',regex=True)"
   ]
  },
  {
   "cell_type": "code",
   "execution_count": 11,
   "metadata": {
    "ExecuteTime": {
     "end_time": "2022-04-01T16:35:17.617868Z",
     "start_time": "2022-04-01T16:35:17.590440Z"
    },
    "hidden": true
   },
   "outputs": [],
   "source": [
    "# merge EconProfile and GDP \n",
    "prof = pd.merge(prof,gdp,how='outer',on='GeoName',indicator=True)\n",
    "prof[prof._merge!='both']\n",
    "prof = prof.drop(columns='_merge') # drop merge indicators\n",
    "# rename columns\n",
    "prof.columns = ['MSA','PINCPC','POP','PINC','EMP','cbsa','RGDP'] \n",
    "# create real gdp per capita\n",
    "prof['RGDPPC'] = prof['RGDP']/prof['POP']*1000\n",
    "# measure population by '000 \n",
    "prof['POP'] = prof['POP']/1000                           \n",
    "prof['EMP'] = prof['EMP']/1000 "
   ]
  },
  {
   "cell_type": "code",
   "execution_count": 12,
   "metadata": {
    "ExecuteTime": {
     "end_time": "2022-04-01T16:35:18.526698Z",
     "start_time": "2022-04-01T16:35:18.500589Z"
    },
    "hidden": true
   },
   "outputs": [],
   "source": [
    "# debt to income ratio\n",
    "debt = pd.read_csv('./data/raw/household-debt-by-msa.csv')\n",
    "debt = debt.groupby(['Year','Metropolitan Statistical Areas']).mean().reset_index().iloc[:,[1,3,4]]\n",
    "debt.columns = ['MSA', 'D2I_Low','D2I_H']\n",
    "debt['MSA'] = debt.MSA.str.replace(r'\\s\\(.*\\).*','',regex=True)"
   ]
  },
  {
   "cell_type": "code",
   "execution_count": 13,
   "metadata": {
    "ExecuteTime": {
     "end_time": "2022-04-01T16:35:19.491353Z",
     "start_time": "2022-04-01T16:35:19.447895Z"
    },
    "hidden": true
   },
   "outputs": [],
   "source": [
    "MSA_list = pd.read_csv('./data/MSA_list.csv')\n",
    "# change MSA names to match Sep 2018 record\n",
    "MSA_list['MSA_old'] = MSA_list['MSA']\n",
    "for key in MSA_rule:\n",
    "    prof.loc[prof.MSA==key,'MSA'] = MSA_rule[key]\n",
    "    debt.loc[debt.MSA==key,'MSA'] = MSA_rule[key]\n",
    "    MSA_list.loc[MSA_list.MSA==key,'MSA'] = MSA_rule[key]"
   ]
  },
  {
   "cell_type": "code",
   "execution_count": 14,
   "metadata": {
    "ExecuteTime": {
     "end_time": "2022-04-01T16:35:20.414058Z",
     "start_time": "2022-04-01T16:35:20.387095Z"
    },
    "hidden": true
   },
   "outputs": [
    {
     "data": {
      "text/html": [
       "<div>\n",
       "<style scoped>\n",
       "    .dataframe tbody tr th:only-of-type {\n",
       "        vertical-align: middle;\n",
       "    }\n",
       "\n",
       "    .dataframe tbody tr th {\n",
       "        vertical-align: top;\n",
       "    }\n",
       "\n",
       "    .dataframe thead th {\n",
       "        text-align: right;\n",
       "    }\n",
       "</style>\n",
       "<table border=\"1\" class=\"dataframe\">\n",
       "  <thead>\n",
       "    <tr style=\"text-align: right;\">\n",
       "      <th></th>\n",
       "      <th>MSA</th>\n",
       "      <th>MSA_old</th>\n",
       "      <th>PINCPC</th>\n",
       "      <th>POP</th>\n",
       "      <th>PINC</th>\n",
       "      <th>EMP</th>\n",
       "      <th>cbsa</th>\n",
       "      <th>RGDP</th>\n",
       "      <th>RGDPPC</th>\n",
       "      <th>_merge</th>\n",
       "    </tr>\n",
       "  </thead>\n",
       "  <tbody>\n",
       "    <tr>\n",
       "      <th>382</th>\n",
       "      <td>Poughkeepsie-Newburgh-Middletown, NY</td>\n",
       "      <td>NaN</td>\n",
       "      <td>51658.0</td>\n",
       "      <td>673.253</td>\n",
       "      <td>34779113.0</td>\n",
       "      <td>348.386</td>\n",
       "      <td>39100</td>\n",
       "      <td>27492574.0</td>\n",
       "      <td>40835.427395</td>\n",
       "      <td>right_only</td>\n",
       "    </tr>\n",
       "    <tr>\n",
       "      <th>383</th>\n",
       "      <td>Twin Falls, ID</td>\n",
       "      <td>NaN</td>\n",
       "      <td>37897.0</td>\n",
       "      <td>109.037</td>\n",
       "      <td>4132141.0</td>\n",
       "      <td>64.497</td>\n",
       "      <td>46300</td>\n",
       "      <td>4493510.0</td>\n",
       "      <td>41210.873373</td>\n",
       "      <td>right_only</td>\n",
       "    </tr>\n",
       "  </tbody>\n",
       "</table>\n",
       "</div>"
      ],
      "text/plain": [
       "                                      MSA MSA_old   PINCPC      POP  \\\n",
       "382  Poughkeepsie-Newburgh-Middletown, NY     NaN  51658.0  673.253   \n",
       "383                        Twin Falls, ID     NaN  37897.0  109.037   \n",
       "\n",
       "           PINC      EMP   cbsa        RGDP        RGDPPC      _merge  \n",
       "382  34779113.0  348.386  39100  27492574.0  40835.427395  right_only  \n",
       "383   4132141.0   64.497  46300   4493510.0  41210.873373  right_only  "
      ]
     },
     "execution_count": 14,
     "metadata": {},
     "output_type": "execute_result"
    }
   ],
   "source": [
    "MSA_list = pd.merge(MSA_list,prof,how='outer',on='MSA',indicator=True)\n",
    "MSA_list[MSA_list._merge!='both']"
   ]
  },
  {
   "cell_type": "code",
   "execution_count": 15,
   "metadata": {
    "ExecuteTime": {
     "end_time": "2022-04-01T16:35:21.413711Z",
     "start_time": "2022-04-01T16:35:21.380789Z"
    },
    "hidden": true
   },
   "outputs": [
    {
     "data": {
      "text/html": [
       "<div>\n",
       "<style scoped>\n",
       "    .dataframe tbody tr th:only-of-type {\n",
       "        vertical-align: middle;\n",
       "    }\n",
       "\n",
       "    .dataframe tbody tr th {\n",
       "        vertical-align: top;\n",
       "    }\n",
       "\n",
       "    .dataframe thead th {\n",
       "        text-align: right;\n",
       "    }\n",
       "</style>\n",
       "<table border=\"1\" class=\"dataframe\">\n",
       "  <thead>\n",
       "    <tr style=\"text-align: right;\">\n",
       "      <th></th>\n",
       "      <th>MSA</th>\n",
       "      <th>MSA_old</th>\n",
       "      <th>PINCPC</th>\n",
       "      <th>POP</th>\n",
       "      <th>PINC</th>\n",
       "      <th>EMP</th>\n",
       "      <th>cbsa</th>\n",
       "      <th>RGDP</th>\n",
       "      <th>RGDPPC</th>\n",
       "      <th>D2I_Low</th>\n",
       "      <th>D2I_H</th>\n",
       "      <th>_merge</th>\n",
       "    </tr>\n",
       "  </thead>\n",
       "  <tbody>\n",
       "    <tr>\n",
       "      <th>110</th>\n",
       "      <td>Enid, OK</td>\n",
       "      <td>Enid, OK</td>\n",
       "      <td>42493.0</td>\n",
       "      <td>61.492</td>\n",
       "      <td>2612964.0</td>\n",
       "      <td>37.566</td>\n",
       "      <td>21420</td>\n",
       "      <td>3345503.0</td>\n",
       "      <td>54405.499902</td>\n",
       "      <td>NaN</td>\n",
       "      <td>NaN</td>\n",
       "      <td>left_only</td>\n",
       "    </tr>\n",
       "  </tbody>\n",
       "</table>\n",
       "</div>"
      ],
      "text/plain": [
       "          MSA   MSA_old   PINCPC     POP       PINC     EMP   cbsa       RGDP  \\\n",
       "110  Enid, OK  Enid, OK  42493.0  61.492  2612964.0  37.566  21420  3345503.0   \n",
       "\n",
       "           RGDPPC  D2I_Low  D2I_H     _merge  \n",
       "110  54405.499902      NaN    NaN  left_only  "
      ]
     },
     "execution_count": 15,
     "metadata": {},
     "output_type": "execute_result"
    }
   ],
   "source": [
    "MSA_list = MSA_list[MSA_list._merge!='right_only']\n",
    "MSA_list = MSA_list.drop(columns='_merge')\n",
    "MSA_list = pd.merge(MSA_list,debt,how='outer',on='MSA',indicator=True)\n",
    "MSA_list[MSA_list._merge!='both']"
   ]
  },
  {
   "cell_type": "code",
   "execution_count": 16,
   "metadata": {
    "ExecuteTime": {
     "end_time": "2022-04-01T16:35:22.297031Z",
     "start_time": "2022-04-01T16:35:22.285225Z"
    },
    "hidden": true
   },
   "outputs": [],
   "source": [
    "MSA_list = MSA_list[MSA_list._merge!='right_only']\n",
    "MSA_list = MSA_list.drop(columns='_merge')"
   ]
  },
  {
   "cell_type": "markdown",
   "metadata": {
    "heading_collapsed": true,
    "hidden": true
   },
   "source": [
    "## Supply Elasticity & Regulation Index"
   ]
  },
  {
   "cell_type": "code",
   "execution_count": 17,
   "metadata": {
    "ExecuteTime": {
     "end_time": "2022-04-01T16:35:24.852512Z",
     "start_time": "2022-04-01T16:35:24.825517Z"
    },
    "hidden": true
   },
   "outputs": [],
   "source": [
    "MSA_rule2 = { 'Allentown-Bethlehem-Easton, PA': 'Allentown-Bethlehem-Easton, PA-NJ',\n",
    "              'Appleton-Oshkosh-Neenah, WI': 'Appleton, WI',\n",
    "              'Atlanta, GA': 'Atlanta-Sandy Springs-Alpharetta, GA',\n",
    "              'Atlantic-Cape May, NJ': 'Atlantic City-Hammonton, NJ',\n",
    "              'Augusta-Aiken, GA-SC' :'Augusta-Richmond County, GA-SC',\n",
    "              'Austin-San Marcos, TX': 'Austin-Round Rock-Georgetown, TX',\n",
    "              'Baltimore, MD': 'Baltimore-Columbia-Towson, MD',\n",
    "              'Barnstable-Yarmouth, MA': 'Barnstable Town, MA',\n",
    "              'Biloxi-Gulfport-Pascagoula, MS': 'Gulfport-Biloxi, MS',\n",
    "              'Birmingham, AL': 'Birmingham-Hoover, AL',\n",
    "              'Bloomington-Normal, IL': 'Bloomington, IL',\n",
    "              'Boston-Worcester-Lawrence-Lowell-Brocktn, MA-NH': 'Boston-Cambridge-Newton, MA-NH',\n",
    "              'Boulder-Longmont, CO': 'Boulder, CO',\n",
    "              'Bremerton, WA': 'Bremerton-Silverdale-Port Orchard, WA',\n",
    "              'Brownsville-Harlingen-San Benito, TX': 'Brownsville-Harlingen, TX',\n",
    "              'Bryan-College Station, TX': 'College Station-Bryan, TX',\n",
    "              'Buffalo-Niagara Falls, NY':'Buffalo-Cheektowaga, NY',\n",
    "              'Burlington, VT': 'Burlington-South Burlington, VT',\n",
    "              'Charlotte-Gastonia-Rock Hill, NC-SC': 'Charlotte-Concord-Gastonia, NC-SC',\n",
    "              'Chicago, IL': 'Chicago-Naperville-Elgin, IL-IN-WI',\n",
    "              'Chico-Paradise, CA': 'Chico, CA',\n",
    "              'Cleveland-Lorain-Elyria, OH': 'Cleveland-Elyria, OH',\n",
    "              'Dallas, TX': 'Dallas-Fort Worth-Arlington, TX',\n",
    "              'Fort Worth-Arlington, TX':'Dallas-Fort Worth-Arlington, TX',\n",
    "              'Dayton-Springfield, OH': 'Dayton, OH',\n",
    "              'Daytona Beach, FL': 'Deltona-Daytona Beach-Ormond Beach, FL',\n",
    "              'Denver, CO': 'Denver-Aurora-Lakewood, CO',\n",
    "              'Des Moines, IA': 'Des Moines-West Des Moines, IA',\n",
    "              'Detroit, MI': 'Detroit-Warren-Dearborn, MI',\n",
    "              'Duluth-Superior, MN-WI': 'Duluth, MN-WI',\n",
    "              'Evansville-Henderson, IN-KY': 'Evansville, IN-KY',\n",
    "              'Fargo-Moorhead, ND-MN': 'Fargo, ND-MN',\n",
    "              'Flagstaff, AZ-UT': 'Flagstaff, AZ',\n",
    "              'Fort Collins-Loveland, CO': 'Fort Collins, CO',\n",
    "              'Grand Rapids-Muskegon-Holland, MI': 'Grand Rapids-Kentwood, MI',\n",
    "              'Greensboro-Winston-Salem-High Point, NC': 'Greensboro-High Point, NC',\n",
    "              'Greenville-Spartanburg-Anderson, SC': 'Greenville-Anderson, SC',\n",
    "              'Hagerstown, MD': 'Hagerstown-Martinsburg, MD-WV',\n",
    "              'Harrisburg-Lebanon-Carlisle, PA': 'Harrisburg-Carlisle, PA',\n",
    "              'Hartford, CT': 'Hartford-East Hartford-Middletown, CT',\n",
    "              'Hickory-Morganton-Lenoir, NC': 'Hickory-Lenoir-Morganton, NC',\n",
    "              'Houston, TX': 'Houston-The Woodlands-Sugar Land, TX',\n",
    "              'Galveston-Texas City, TX': 'Houston-The Woodlands-Sugar Land, TX',\n",
    "              'Indianapolis, IN': 'Indianapolis-Carmel-Anderson, IN',\n",
    "              'Johnson City-Kingsport-Bristol, TN-VA': 'Johnson City, TN',\n",
    "              'Kalamazoo-Battle Creek, MI': 'Kalamazoo-Portage, MI',\n",
    "              'La Crosse, WI-MN': 'La Crosse-Onalaska, WI-MN',\n",
    "              'Lafayette, IN': 'Lafayette-West Lafayette, IN',\n",
    "              'Las Vegas, NV-AZ': 'Las Vegas-Henderson-Paradise, NV',\n",
    "              'Lexington, KY': 'Lexington-Fayette, KY',\n",
    "              'Little Rock-North Little Rock, AR': 'Little Rock-North Little Rock-Conway, AR',\n",
    "              'Longview-Marshall, TX': 'Longview, TX',\n",
    "              'Los Angeles-Long Beach, CA': 'Los Angeles-Long Beach-Anaheim, CA',\n",
    "              'Louisville, KY-IN': 'Louisville/Jefferson County, KY-IN',\n",
    "              'Medford-Ashland, OR': 'Medford, OR',\n",
    "              'Memphis, TN-AR-MS': 'Memphis, TN-MS-AR',\n",
    "              'Minneapolis-St. Paul, MN-WI': 'Minneapolis-St. Paul-Bloomington, MN-WI',\n",
    "              'Myrtle Beach, SC': 'Myrtle Beach-Conway-North Myrtle Beach, SC-NC',\n",
    "              'Naples, FL': 'Naples-Marco Island, FL',\n",
    "              'Nashville, TN': 'Nashville-Davidson--Murfreesboro--Franklin, TN',\n",
    "              'New Haven-Bridgprt-Stamfrd-Danbry-Wtrbry, CT': 'New Haven-Milford, CT',\n",
    "              'New London-Norwich, CT': 'Norwich-New London, CT',\n",
    "              'New Orleans, LA': 'New Orleans-Metairie, LA',\n",
    "              'Olympia, WA': 'Olympia-Lacey-Tumwater, WA',\n",
    "              'Omaha, NE-IA': 'Omaha-Council Bluffs, NE-IA',\n",
    "              'Orlando, FL': 'Orlando-Kissimmee-Sanford, FL',\n",
    "              'Parkersburg-Marietta, WV-OH': 'Parkersburg-Vienna, WV',\n",
    "              'Pensacola, FL': 'Pensacola-Ferry Pass-Brent, FL',\n",
    "              'Peoria-Pekin, IL': 'Peoria, IL',\n",
    "              'Philadelphia, PA-NJ': 'Philadelphia-Camden-Wilmington, PA-NJ-DE-MD',\n",
    "              'Phoenix-Mesa, AZ': 'Phoenix-Mesa-Chandler, AZ',\n",
    "              'Portland, ME': 'Portland-South Portland, ME',\n",
    "              'Portland-Vancouver, OR-WA': 'Portland-Vancouver-Hillsboro, OR-WA',\n",
    "              'Providence-Warwick-Pawtucket, RI': 'Providence-Warwick, RI-MA',\n",
    "              'Raleigh-Durham-Chapel Hill, NC': 'Raleigh, NC',\n",
    "              'Richmond-Petersburg, VA': 'Richmond, VA',\n",
    "              'Riverside-San Bernardino, CA': 'Riverside-San Bernardino-Ontario, CA',\n",
    "              'Saginaw-Bay City-Midland, MI': 'Saginaw, MI',\n",
    "              'St. Joseph, MO': 'St. Joseph, MO-KS',\n",
    "              'Salt Lake City-Ogden, UT': 'Salt Lake City, UT',\n",
    "              'San Antonio, TX': 'San Antonio-New Braunfels, TX',\n",
    "              'San Diego, CA': 'San Diego-Chula Vista-Carlsbad, CA',\n",
    "              'San Francisco, CA': 'San Francisco-Oakland-Berkeley, CA',\n",
    "              'Oakland, CA': 'San Francisco-Oakland-Berkeley, CA',\n",
    "              'San Jose, CA': 'San Jose-Sunnyvale-Santa Clara, CA',\n",
    "              'San Luis Obispo-Atascadero-Paso Robles, CA': 'San Luis Obispo-Paso Robles, CA',\n",
    "              'Santa Barbara-Santa Maria-Lompoc, CA': 'Santa Maria-Santa Barbara, CA',\n",
    "              'Seattle-Bellevue-Everett, WA': 'Seattle-Tacoma-Bellevue, WA',\n",
    "              'Sioux City, IA-NE': 'Sioux City, IA-NE-SD',\n",
    "              'South Bend, IN': 'South Bend-Mishawaka, IN-MI',\n",
    "              'Spokane, WA': 'Spokane-Spokane Valley, WA',\n",
    "              'Texarkana, TX-Texarkana AR': 'Texarkana, TX-AR',\n",
    "              'Vallejo-Fairfield-Napa, CA': 'Vallejo, CA',\n",
    "              'Vineland-Millville-Bridgeton, NJ': 'Vineland-Bridgeton, NJ',\n",
    "              'Washington, DC-MD-VA-WV': 'Washington-Arlington-Alexandria, DC-VA-MD-WV',\n",
    "              'York, PA':'York-Hanover, PA',\n",
    "              'Youngstown-Warren, OH': 'Youngstown-Warren-Boardman, OH-PA',\n",
    "              'Fort Lauderdale, FL': 'Miami-Fort Lauderdale-Pompano Beach, FL',\n",
    "              'Miami, FL':'Miami-Fort Lauderdale-Pompano Beach, FL',\n",
    "              'Melbourne-Titusville-Palm Bay, FL':'Palm Bay-Melbourne-Titusville, FL',\n",
    "              'Fort Myers-Cape Coral, FL':'Cape Coral-Fort Myers, FL',\n",
    "              'Fort Pierce-Port St. Lucie, FL':'Port St. Lucie, FL',\n",
    "              'Fort Walton Beach, FL': 'Crestview-Fort Walton Beach-Destin, FL',\n",
    "              'New York, NY': 'New York-Newark-Jersey City, NY-NJ-PA',\n",
    "              'Newark, NJ': 'New York-Newark-Jersey City, NY-NJ-PA',\n",
    "              'Jersey City, NJ':'New York-Newark-Jersey City, NY-NJ-PA',\n",
    "              'Norfolk-Virginia Beach-Newport News, VA-NC':'Virginia Beach-Norfolk-Newport News, VA-NC',\n",
    "              'Richland-Kennewick-Pasco, WA': 'Kennewick-Richland, WA',\n",
    "              'Sarasota-Bradenton, FL': 'North Port-Sarasota-Bradenton, FL',\n",
    "              'Scranton-Wilkes-Barre-Hazleton, PA': 'Scranton--Wilkes-Barre--Hazleton, PA',\n",
    "              'Steubenville-Weirton, OH-WV': 'Weirton-Steubenville, WV-OH',\n",
    "              'Tacoma, WA': 'Seattle-Tacoma-Bellevue, WA',\n",
    "              'Ventura, CA': 'Oxnard-Thousand Oaks-Ventura, CA',\n",
    "              'Visalia-Tulare-Porterville, CA':'Visalia, CA',\n",
    "              'West Palm Beach-Boca Raton, FL': 'Palm Bay-Melbourne-Titusville, FL',\n",
    "              'Hamilton-Middletown, OH':'Cincinnati, OH-KY-IN',\n",
    "              'Kenosha, WI':'Chicago-Naperville-Elgin, IL-IN-WI',\n",
    "              'Sharon, PA':'Youngstown-Warren-Boardman, OH-PA',\n",
    "              'Benton Harbor, MI':'Niles, MI'\n",
    "}"
   ]
  },
  {
   "cell_type": "code",
   "execution_count": 18,
   "metadata": {
    "ExecuteTime": {
     "end_time": "2022-04-01T16:35:25.870713Z",
     "start_time": "2022-04-01T16:35:25.808549Z"
    },
    "hidden": true
   },
   "outputs": [],
   "source": [
    "supp = pd.read_stata('./data/raw/HOUSING_SUPPLY.dta')\n",
    "supp = supp.rename(columns={'msaname':'MSA'})\n",
    "supp['MSA'] = supp.MSA.str.replace(r'\\s+\\([A-Z]+\\)','',regex=True)\n",
    "supp = supp[['MSA','WRLURI','elasticity']]\n",
    "for key in MSA_rule:\n",
    "    supp.loc[supp.MSA==key,'MSA'] = MSA_rule[key]\n",
    "for key in MSA_rule2:\n",
    "    supp.loc[supp.MSA==key,'MSA'] = MSA_rule2[key]"
   ]
  },
  {
   "cell_type": "code",
   "execution_count": 19,
   "metadata": {
    "ExecuteTime": {
     "end_time": "2022-04-01T16:35:26.850959Z",
     "start_time": "2022-04-01T16:35:26.840932Z"
    },
    "hidden": true
   },
   "outputs": [],
   "source": [
    "supp = supp.groupby('MSA').mean().reset_index()"
   ]
  },
  {
   "cell_type": "code",
   "execution_count": 20,
   "metadata": {
    "ExecuteTime": {
     "end_time": "2022-04-01T16:35:27.746486Z",
     "start_time": "2022-04-01T16:35:27.718175Z"
    },
    "hidden": true
   },
   "outputs": [
    {
     "data": {
      "text/html": [
       "<div>\n",
       "<style scoped>\n",
       "    .dataframe tbody tr th:only-of-type {\n",
       "        vertical-align: middle;\n",
       "    }\n",
       "\n",
       "    .dataframe tbody tr th {\n",
       "        vertical-align: top;\n",
       "    }\n",
       "\n",
       "    .dataframe thead th {\n",
       "        text-align: right;\n",
       "    }\n",
       "</style>\n",
       "<table border=\"1\" class=\"dataframe\">\n",
       "  <thead>\n",
       "    <tr style=\"text-align: right;\">\n",
       "      <th></th>\n",
       "      <th>MSA</th>\n",
       "      <th>MSA_old</th>\n",
       "      <th>PINCPC</th>\n",
       "      <th>POP</th>\n",
       "      <th>PINC</th>\n",
       "      <th>EMP</th>\n",
       "      <th>cbsa</th>\n",
       "      <th>RGDP</th>\n",
       "      <th>RGDPPC</th>\n",
       "      <th>D2I_Low</th>\n",
       "      <th>D2I_H</th>\n",
       "      <th>WRLURI</th>\n",
       "      <th>elasticity</th>\n",
       "      <th>_merge</th>\n",
       "    </tr>\n",
       "  </thead>\n",
       "  <tbody>\n",
       "    <tr>\n",
       "      <th>382</th>\n",
       "      <td>Gary, IN</td>\n",
       "      <td>NaN</td>\n",
       "      <td>NaN</td>\n",
       "      <td>NaN</td>\n",
       "      <td>NaN</td>\n",
       "      <td>NaN</td>\n",
       "      <td>NaN</td>\n",
       "      <td>NaN</td>\n",
       "      <td>NaN</td>\n",
       "      <td>NaN</td>\n",
       "      <td>NaN</td>\n",
       "      <td>-0.694470</td>\n",
       "      <td>1.736834</td>\n",
       "      <td>right_only</td>\n",
       "    </tr>\n",
       "    <tr>\n",
       "      <th>383</th>\n",
       "      <td>Jamestown, NY</td>\n",
       "      <td>NaN</td>\n",
       "      <td>NaN</td>\n",
       "      <td>NaN</td>\n",
       "      <td>NaN</td>\n",
       "      <td>NaN</td>\n",
       "      <td>NaN</td>\n",
       "      <td>NaN</td>\n",
       "      <td>NaN</td>\n",
       "      <td>NaN</td>\n",
       "      <td>NaN</td>\n",
       "      <td>-0.648981</td>\n",
       "      <td>2.868494</td>\n",
       "      <td>right_only</td>\n",
       "    </tr>\n",
       "    <tr>\n",
       "      <th>384</th>\n",
       "      <td>Newburgh, NY-PA</td>\n",
       "      <td>NaN</td>\n",
       "      <td>NaN</td>\n",
       "      <td>NaN</td>\n",
       "      <td>NaN</td>\n",
       "      <td>NaN</td>\n",
       "      <td>NaN</td>\n",
       "      <td>NaN</td>\n",
       "      <td>NaN</td>\n",
       "      <td>NaN</td>\n",
       "      <td>NaN</td>\n",
       "      <td>-0.046225</td>\n",
       "      <td>1.787929</td>\n",
       "      <td>right_only</td>\n",
       "    </tr>\n",
       "    <tr>\n",
       "      <th>385</th>\n",
       "      <td>Wilmington-Newark, DE-MD</td>\n",
       "      <td>NaN</td>\n",
       "      <td>NaN</td>\n",
       "      <td>NaN</td>\n",
       "      <td>NaN</td>\n",
       "      <td>NaN</td>\n",
       "      <td>NaN</td>\n",
       "      <td>NaN</td>\n",
       "      <td>NaN</td>\n",
       "      <td>NaN</td>\n",
       "      <td>NaN</td>\n",
       "      <td>0.467964</td>\n",
       "      <td>1.991168</td>\n",
       "      <td>right_only</td>\n",
       "    </tr>\n",
       "  </tbody>\n",
       "</table>\n",
       "</div>"
      ],
      "text/plain": [
       "                          MSA MSA_old  PINCPC  POP  PINC  EMP cbsa  RGDP  \\\n",
       "382                  Gary, IN     NaN     NaN  NaN   NaN  NaN  NaN   NaN   \n",
       "383             Jamestown, NY     NaN     NaN  NaN   NaN  NaN  NaN   NaN   \n",
       "384           Newburgh, NY-PA     NaN     NaN  NaN   NaN  NaN  NaN   NaN   \n",
       "385  Wilmington-Newark, DE-MD     NaN     NaN  NaN   NaN  NaN  NaN   NaN   \n",
       "\n",
       "     RGDPPC  D2I_Low  D2I_H    WRLURI  elasticity      _merge  \n",
       "382     NaN      NaN    NaN -0.694470    1.736834  right_only  \n",
       "383     NaN      NaN    NaN -0.648981    2.868494  right_only  \n",
       "384     NaN      NaN    NaN -0.046225    1.787929  right_only  \n",
       "385     NaN      NaN    NaN  0.467964    1.991168  right_only  "
      ]
     },
     "execution_count": 20,
     "metadata": {},
     "output_type": "execute_result"
    }
   ],
   "source": [
    "MSA_list = pd.merge(MSA_list,supp,how='outer',on='MSA',indicator=True)\n",
    "MSA_list[MSA_list._merge=='right_only']"
   ]
  },
  {
   "cell_type": "code",
   "execution_count": 21,
   "metadata": {
    "ExecuteTime": {
     "end_time": "2022-04-01T16:35:28.797847Z",
     "start_time": "2022-04-01T16:35:28.784957Z"
    },
    "hidden": true
   },
   "outputs": [],
   "source": [
    "MSA_list = MSA_list[MSA_list._merge!='right_only']\n",
    "MSA_list = MSA_list.drop(columns='_merge')"
   ]
  },
  {
   "cell_type": "markdown",
   "metadata": {
    "heading_collapsed": true,
    "hidden": true
   },
   "source": [
    "## Save MSA_features"
   ]
  },
  {
   "cell_type": "code",
   "execution_count": 22,
   "metadata": {
    "ExecuteTime": {
     "end_time": "2022-04-01T16:35:34.470141Z",
     "start_time": "2022-04-01T16:35:34.440559Z"
    },
    "hidden": true
   },
   "outputs": [],
   "source": [
    "MSA_list.to_csv('./data/MSA_features.csv',index=False)"
   ]
  },
  {
   "cell_type": "markdown",
   "metadata": {},
   "source": [
    "# Combine MSA features with group estimates"
   ]
  },
  {
   "cell_type": "markdown",
   "metadata": {
    "ExecuteTime": {
     "end_time": "2022-04-01T16:53:32.334727Z",
     "start_time": "2022-04-01T16:53:32.303990Z"
    },
    "heading_collapsed": true
   },
   "source": [
    "## Baseline: FE with lagged dependent variables\n",
    "\n",
    "Read `MSA_features.csv` from Section 2, and combine it with group estimates `EMP_FE_Ylag_Gr_re.csv`."
   ]
  },
  {
   "cell_type": "code",
   "execution_count": 2,
   "metadata": {
    "ExecuteTime": {
     "end_time": "2022-04-23T11:50:36.278647Z",
     "start_time": "2022-04-23T11:50:36.248607Z"
    },
    "hidden": true
   },
   "outputs": [],
   "source": [
    "# read MSA features\n",
    "df1 = pd.read_csv('./data/MSA_features.csv')\n",
    "\n",
    "# read group estimates\n",
    "df2 = pd.read_csv('./output/EMP/EMP_FE_Ylag_Gr_re.csv',header=None)\n",
    "# clean up\n",
    "df2 = df2.iloc[:,[1,2,3]]\n",
    "df2.columns = ['FE_Y_G2','FE_Y_G3','FE_Y_G4']\n",
    "\n",
    "# merge the two\n",
    "Gr = pd.concat([df1,df2],axis=1) "
   ]
  },
  {
   "cell_type": "code",
   "execution_count": 3,
   "metadata": {
    "ExecuteTime": {
     "end_time": "2022-04-23T11:50:38.840396Z",
     "start_time": "2022-04-23T11:50:38.799776Z"
    },
    "hidden": true
   },
   "outputs": [],
   "source": [
    "# mean\n",
    "base = Gr[['FE_Y_G2','RGDPPC','PINCPC','POP','EMP','WRLURI','elasticity','D2I_Low','D2I_H']].groupby('FE_Y_G2').mean().reset_index()\n",
    "for g in ['FE_Y_G3','FE_Y_G4']:\n",
    "    base = pd.concat([base,Gr[[g,'RGDPPC','PINCPC','POP','EMP','WRLURI','elasticity','D2I_Low','D2I_H']].groupby(g).mean().reset_index()])\n",
    "    \n",
    "    \n",
    "# standard deviation\n",
    "base1 = Gr[['FE_Y_G2','RGDPPC','PINCPC','POP','EMP','WRLURI','elasticity','D2I_Low','D2I_H']].groupby('FE_Y_G2').std().reset_index()\n",
    "for g in ['FE_Y_G3','FE_Y_G4']:\n",
    "    base1 = pd.concat([base1,Gr[[g,'RGDPPC','PINCPC','POP','EMP','WRLURI','elasticity','D2I_Low','D2I_H']].groupby(g).std().reset_index()])\n",
    "\n",
    "count = Gr.groupby('FE_Y_G2')['MSA'].count().reset_index()\n",
    "for g in ['FE_Y_G3','FE_Y_G4']:\n",
    "    count = pd.concat([count,Gr[[g,'MSA']].groupby(g)['MSA'].count().reset_index()])\n",
    "\n",
    "tab6 = pd.concat([base,base1,count['MSA']],axis=1)\n",
    "#tab6.iloc[:,[22,0,1,12,2,13,3,14,4,15,5,16,6,17,7,18,8,19,9,10]]"
   ]
  },
  {
   "cell_type": "code",
   "execution_count": 4,
   "metadata": {
    "ExecuteTime": {
     "end_time": "2022-04-23T11:50:39.718753Z",
     "start_time": "2022-04-23T11:50:39.697555Z"
    },
    "hidden": true
   },
   "outputs": [],
   "source": [
    "tab6['Gr'] = [1,2,1,2,3,1,2,3,4]"
   ]
  },
  {
   "cell_type": "code",
   "execution_count": 5,
   "metadata": {
    "ExecuteTime": {
     "end_time": "2022-04-23T11:50:43.835987Z",
     "start_time": "2022-04-23T11:50:43.794564Z"
    },
    "hidden": true
   },
   "outputs": [
    {
     "data": {
      "text/html": [
       "<div>\n",
       "<style scoped>\n",
       "    .dataframe tbody tr th:only-of-type {\n",
       "        vertical-align: middle;\n",
       "    }\n",
       "\n",
       "    .dataframe tbody tr th {\n",
       "        vertical-align: top;\n",
       "    }\n",
       "\n",
       "    .dataframe thead th {\n",
       "        text-align: right;\n",
       "    }\n",
       "</style>\n",
       "<table border=\"1\" class=\"dataframe\">\n",
       "  <thead>\n",
       "    <tr style=\"text-align: right;\">\n",
       "      <th></th>\n",
       "      <th>Gr</th>\n",
       "      <th>MSA</th>\n",
       "      <th>RGDPPC</th>\n",
       "      <th>RGDPPC</th>\n",
       "      <th>PINCPC</th>\n",
       "      <th>PINCPC</th>\n",
       "      <th>POP</th>\n",
       "      <th>POP</th>\n",
       "      <th>EMP</th>\n",
       "      <th>EMP</th>\n",
       "      <th>WRLURI</th>\n",
       "      <th>WRLURI</th>\n",
       "      <th>elasticity</th>\n",
       "      <th>elasticity</th>\n",
       "      <th>D2I_Low</th>\n",
       "      <th>D2I_Low</th>\n",
       "      <th>D2I_H</th>\n",
       "      <th>D2I_H</th>\n",
       "    </tr>\n",
       "  </thead>\n",
       "  <tbody>\n",
       "    <tr>\n",
       "      <th>0</th>\n",
       "      <td>1</td>\n",
       "      <td>59</td>\n",
       "      <td>52435.720082</td>\n",
       "      <td>18144.909932</td>\n",
       "      <td>48492.881356</td>\n",
       "      <td>12687.783450</td>\n",
       "      <td>1080.942898</td>\n",
       "      <td>2060.545424</td>\n",
       "      <td>668.502559</td>\n",
       "      <td>1342.756952</td>\n",
       "      <td>0.293063</td>\n",
       "      <td>0.847953</td>\n",
       "      <td>1.869773</td>\n",
       "      <td>0.922585</td>\n",
       "      <td>1.585508</td>\n",
       "      <td>0.514316</td>\n",
       "      <td>1.739722</td>\n",
       "      <td>0.484784</td>\n",
       "    </tr>\n",
       "    <tr>\n",
       "      <th>1</th>\n",
       "      <td>2</td>\n",
       "      <td>323</td>\n",
       "      <td>46052.013267</td>\n",
       "      <td>13190.213875</td>\n",
       "      <td>45446.321981</td>\n",
       "      <td>9399.370229</td>\n",
       "      <td>666.181207</td>\n",
       "      <td>1537.968664</td>\n",
       "      <td>413.168755</td>\n",
       "      <td>1001.106909</td>\n",
       "      <td>-0.195701</td>\n",
       "      <td>0.801485</td>\n",
       "      <td>2.720897</td>\n",
       "      <td>1.485238</td>\n",
       "      <td>1.399565</td>\n",
       "      <td>0.473981</td>\n",
       "      <td>1.560718</td>\n",
       "      <td>0.445479</td>\n",
       "    </tr>\n",
       "    <tr>\n",
       "      <th>0</th>\n",
       "      <td>1</td>\n",
       "      <td>24</td>\n",
       "      <td>53686.497708</td>\n",
       "      <td>22897.612094</td>\n",
       "      <td>49063.416667</td>\n",
       "      <td>14082.064797</td>\n",
       "      <td>1485.602667</td>\n",
       "      <td>2768.059624</td>\n",
       "      <td>885.454667</td>\n",
       "      <td>1781.912000</td>\n",
       "      <td>0.512736</td>\n",
       "      <td>0.396054</td>\n",
       "      <td>1.529502</td>\n",
       "      <td>0.774894</td>\n",
       "      <td>1.840625</td>\n",
       "      <td>0.449401</td>\n",
       "      <td>1.954375</td>\n",
       "      <td>0.434643</td>\n",
       "    </tr>\n",
       "    <tr>\n",
       "      <th>1</th>\n",
       "      <td>2</td>\n",
       "      <td>200</td>\n",
       "      <td>48452.222896</td>\n",
       "      <td>14443.884514</td>\n",
       "      <td>46352.175000</td>\n",
       "      <td>9531.575840</td>\n",
       "      <td>774.123890</td>\n",
       "      <td>1861.153916</td>\n",
       "      <td>490.268340</td>\n",
       "      <td>1219.815421</td>\n",
       "      <td>-0.171589</td>\n",
       "      <td>0.870971</td>\n",
       "      <td>2.685243</td>\n",
       "      <td>1.465185</td>\n",
       "      <td>1.358882</td>\n",
       "      <td>0.440207</td>\n",
       "      <td>1.529085</td>\n",
       "      <td>0.417952</td>\n",
       "    </tr>\n",
       "    <tr>\n",
       "      <th>2</th>\n",
       "      <td>3</td>\n",
       "      <td>158</td>\n",
       "      <td>44237.893962</td>\n",
       "      <td>11531.121199</td>\n",
       "      <td>44887.879747</td>\n",
       "      <td>9828.082465</td>\n",
       "      <td>559.955184</td>\n",
       "      <td>917.897880</td>\n",
       "      <td>339.180880</td>\n",
       "      <td>589.691925</td>\n",
       "      <td>-0.152653</td>\n",
       "      <td>0.780285</td>\n",
       "      <td>2.631473</td>\n",
       "      <td>1.443040</td>\n",
       "      <td>1.453244</td>\n",
       "      <td>0.511211</td>\n",
       "      <td>1.613583</td>\n",
       "      <td>0.481131</td>\n",
       "    </tr>\n",
       "    <tr>\n",
       "      <th>0</th>\n",
       "      <td>1</td>\n",
       "      <td>24</td>\n",
       "      <td>53686.497708</td>\n",
       "      <td>22897.612094</td>\n",
       "      <td>49063.416667</td>\n",
       "      <td>14082.064797</td>\n",
       "      <td>1485.602667</td>\n",
       "      <td>2768.059624</td>\n",
       "      <td>885.454667</td>\n",
       "      <td>1781.912000</td>\n",
       "      <td>0.512736</td>\n",
       "      <td>0.396054</td>\n",
       "      <td>1.529502</td>\n",
       "      <td>0.774894</td>\n",
       "      <td>1.840625</td>\n",
       "      <td>0.449401</td>\n",
       "      <td>1.954375</td>\n",
       "      <td>0.434643</td>\n",
       "    </tr>\n",
       "    <tr>\n",
       "      <th>1</th>\n",
       "      <td>2</td>\n",
       "      <td>87</td>\n",
       "      <td>49303.418564</td>\n",
       "      <td>12894.464499</td>\n",
       "      <td>47058.471264</td>\n",
       "      <td>9574.577846</td>\n",
       "      <td>842.368218</td>\n",
       "      <td>2223.666621</td>\n",
       "      <td>535.018874</td>\n",
       "      <td>1461.835623</td>\n",
       "      <td>0.134841</td>\n",
       "      <td>0.984870</td>\n",
       "      <td>2.131202</td>\n",
       "      <td>0.869963</td>\n",
       "      <td>1.412816</td>\n",
       "      <td>0.465239</td>\n",
       "      <td>1.579286</td>\n",
       "      <td>0.445824</td>\n",
       "    </tr>\n",
       "    <tr>\n",
       "      <th>2</th>\n",
       "      <td>3</td>\n",
       "      <td>168</td>\n",
       "      <td>46886.790830</td>\n",
       "      <td>14375.036469</td>\n",
       "      <td>46086.214286</td>\n",
       "      <td>10455.754375</td>\n",
       "      <td>642.016423</td>\n",
       "      <td>1310.595573</td>\n",
       "      <td>403.760690</td>\n",
       "      <td>857.378685</td>\n",
       "      <td>-0.335621</td>\n",
       "      <td>0.694772</td>\n",
       "      <td>2.986564</td>\n",
       "      <td>1.615613</td>\n",
       "      <td>1.363877</td>\n",
       "      <td>0.441637</td>\n",
       "      <td>1.525046</td>\n",
       "      <td>0.414137</td>\n",
       "    </tr>\n",
       "    <tr>\n",
       "      <th>3</th>\n",
       "      <td>4</td>\n",
       "      <td>103</td>\n",
       "      <td>43821.879133</td>\n",
       "      <td>11592.460643</td>\n",
       "      <td>43943.194175</td>\n",
       "      <td>8158.464212</td>\n",
       "      <td>603.426243</td>\n",
       "      <td>1040.404187</td>\n",
       "      <td>361.803971</td>\n",
       "      <td>661.488351</td>\n",
       "      <td>-0.154302</td>\n",
       "      <td>0.814787</td>\n",
       "      <td>2.616223</td>\n",
       "      <td>1.465959</td>\n",
       "      <td>1.449976</td>\n",
       "      <td>0.530465</td>\n",
       "      <td>1.622066</td>\n",
       "      <td>0.498503</td>\n",
       "    </tr>\n",
       "  </tbody>\n",
       "</table>\n",
       "</div>"
      ],
      "text/plain": [
       "   Gr  MSA        RGDPPC        RGDPPC        PINCPC        PINCPC  \\\n",
       "0   1   59  52435.720082  18144.909932  48492.881356  12687.783450   \n",
       "1   2  323  46052.013267  13190.213875  45446.321981   9399.370229   \n",
       "0   1   24  53686.497708  22897.612094  49063.416667  14082.064797   \n",
       "1   2  200  48452.222896  14443.884514  46352.175000   9531.575840   \n",
       "2   3  158  44237.893962  11531.121199  44887.879747   9828.082465   \n",
       "0   1   24  53686.497708  22897.612094  49063.416667  14082.064797   \n",
       "1   2   87  49303.418564  12894.464499  47058.471264   9574.577846   \n",
       "2   3  168  46886.790830  14375.036469  46086.214286  10455.754375   \n",
       "3   4  103  43821.879133  11592.460643  43943.194175   8158.464212   \n",
       "\n",
       "           POP          POP         EMP          EMP    WRLURI    WRLURI  \\\n",
       "0  1080.942898  2060.545424  668.502559  1342.756952  0.293063  0.847953   \n",
       "1   666.181207  1537.968664  413.168755  1001.106909 -0.195701  0.801485   \n",
       "0  1485.602667  2768.059624  885.454667  1781.912000  0.512736  0.396054   \n",
       "1   774.123890  1861.153916  490.268340  1219.815421 -0.171589  0.870971   \n",
       "2   559.955184   917.897880  339.180880   589.691925 -0.152653  0.780285   \n",
       "0  1485.602667  2768.059624  885.454667  1781.912000  0.512736  0.396054   \n",
       "1   842.368218  2223.666621  535.018874  1461.835623  0.134841  0.984870   \n",
       "2   642.016423  1310.595573  403.760690   857.378685 -0.335621  0.694772   \n",
       "3   603.426243  1040.404187  361.803971   661.488351 -0.154302  0.814787   \n",
       "\n",
       "   elasticity  elasticity   D2I_Low   D2I_Low     D2I_H     D2I_H  \n",
       "0    1.869773    0.922585  1.585508  0.514316  1.739722  0.484784  \n",
       "1    2.720897    1.485238  1.399565  0.473981  1.560718  0.445479  \n",
       "0    1.529502    0.774894  1.840625  0.449401  1.954375  0.434643  \n",
       "1    2.685243    1.465185  1.358882  0.440207  1.529085  0.417952  \n",
       "2    2.631473    1.443040  1.453244  0.511211  1.613583  0.481131  \n",
       "0    1.529502    0.774894  1.840625  0.449401  1.954375  0.434643  \n",
       "1    2.131202    0.869963  1.412816  0.465239  1.579286  0.445824  \n",
       "2    2.986564    1.615613  1.363877  0.441637  1.525046  0.414137  \n",
       "3    2.616223    1.465959  1.449976  0.530465  1.622066  0.498503  "
      ]
     },
     "execution_count": 5,
     "metadata": {},
     "output_type": "execute_result"
    }
   ],
   "source": [
    "tab6.iloc[:,[-1,-2,1,12,2,13,3,14,4,15,5,16,6,17,7,18,8,19]]"
   ]
  },
  {
   "cell_type": "markdown",
   "metadata": {
    "heading_collapsed": true,
    "hidden": true
   },
   "source": [
    "### Ad hoc grouping"
   ]
  },
  {
   "cell_type": "code",
   "execution_count": 6,
   "metadata": {
    "ExecuteTime": {
     "end_time": "2022-04-23T11:51:04.962910Z",
     "start_time": "2022-04-23T11:51:04.940608Z"
    },
    "hidden": true
   },
   "outputs": [
    {
     "name": "stdout",
     "output_type": "stream",
     "text": [
      "PINCPC Percentile:\n",
      "count       382.000000\n",
      "mean      45916.863874\n",
      "std       10019.399870\n",
      "min       25451.000000\n",
      "50%       43932.500000\n",
      "90%       56249.600000\n",
      "max      112769.000000\n",
      "Name: PINCPC, dtype: float64\n",
      "\n",
      "\n",
      "PINCPC Percentile in Group 1:\n",
      "count       24.000000\n",
      "mean     49063.416667\n",
      "std      14082.064797\n",
      "min      34323.000000\n",
      "10%      37177.400000\n",
      "50%      44385.000000\n",
      "max      98690.000000\n",
      "Name: PINCPC, dtype: float64\n"
     ]
    }
   ],
   "source": [
    "print('PINCPC Percentile:')\n",
    "pct_all = Gr.PINCPC.describe(percentiles=[0.9])\n",
    "print(pct_all)\n",
    "print('\\n')\n",
    "print('PINCPC Percentile in Group 1:')\n",
    "pct_g1 = Gr.loc[Gr['FE_Y_G3']==1,'PINCPC'].describe(percentiles=[0.1])\n",
    "print(pct_g1)"
   ]
  },
  {
   "cell_type": "code",
   "execution_count": 7,
   "metadata": {
    "ExecuteTime": {
     "end_time": "2022-04-23T11:51:12.017763Z",
     "start_time": "2022-04-23T11:51:12.007352Z"
    },
    "hidden": true
   },
   "outputs": [],
   "source": [
    "Gr['PINCPC_Top10'] = 0\n",
    "Gr.loc[Gr.PINCPC>=56249.6,'PINCPC_Top10']=1\n",
    "\n",
    "Gr['FE_Y_PoorG3_1'] = 0\n",
    "Gr.loc[(Gr['FE_Y_G3']==1)&(Gr.PINCPC<=pct_g1[4]),'FE_Y_PoorG3_1'] = 1"
   ]
  },
  {
   "cell_type": "code",
   "execution_count": 8,
   "metadata": {
    "ExecuteTime": {
     "end_time": "2022-04-23T11:51:15.223384Z",
     "start_time": "2022-04-23T11:51:15.194457Z"
    },
    "hidden": true
   },
   "outputs": [],
   "source": [
    "Gr.to_csv('./data/MSA_features_Adhoc_FE_Ylag.csv',index=False)"
   ]
  },
  {
   "cell_type": "markdown",
   "metadata": {
    "heading_collapsed": true,
    "hidden": true
   },
   "source": [
    "### Map\n",
    "\n",
    "__First convert MSA to County__\n",
    "\n",
    "According to [Freddie Mac](http://www.freddiemac.com/research/indices/fmhpi-faq.page), the definition of MSAs follow the most recent ones in Office of Management and Budget (OMB).\n",
    "\n",
    "I take the Sep. 2018 one on their [website](https://www.census.gov/geographies/reference-files/time-series/demo/metro-micro/delineation-files.html)\n",
    "\n",
    "\n",
    "\n",
    "__Details of codes and requirements are [here](https://plot.ly/python/county-choropleth/)__"
   ]
  },
  {
   "cell_type": "code",
   "execution_count": 9,
   "metadata": {
    "ExecuteTime": {
     "end_time": "2022-04-22T18:46:54.657319Z",
     "start_time": "2022-04-22T18:46:54.585512Z"
    },
    "hidden": true
   },
   "outputs": [],
   "source": [
    "# load crosswalk\n",
    "cross = pd.read_csv('./data/cbsa_county.csv')\n",
    "cross['FIPS'] = cross.apply(lambda x: str(x['FIPS State Code']).zfill(2)+str(x['FIPS County Code']).zfill(3), axis = 1) \n",
    "cross = cross.iloc[:,[0,1,6]]\n",
    "cross.columns = ['cbsa','MSA','FIPS']\n",
    "\n",
    "# load MSA feature\n",
    "Gr.cbsa = Gr.cbsa.astype(int)\n",
    "\n",
    "# merge data\n",
    "cross = pd.merge(cross,Gr.loc[:,['cbsa','FE_Y_G3','FE_Y_G4']],how='outer',on='cbsa',indicator=True)\n",
    "\n",
    "# keep only 382 MSAs used\n",
    "cross = cross[cross._merge=='both']\n",
    "cross = cross.drop(columns='_merge')"
   ]
  },
  {
   "cell_type": "code",
   "execution_count": null,
   "metadata": {
    "ExecuteTime": {
     "end_time": "2022-04-22T18:47:01.722292Z",
     "start_time": "2022-04-22T18:46:55.383356Z"
    },
    "hidden": true
   },
   "outputs": [],
   "source": [
    "# plot mappings for G3 G4 using FIPS\n",
    "# colorscale = [\"#f7fbff\",\"#ebf3fb\",\"#deebf7\",\"#d2e3f3\",\"#c6dbef\",\"#b3d2e9\",\"#9ecae1\",\n",
    "#               \"#85bcdb\",\"#6baed6\",\"#57a0ce\",\"#4292c6\",\"#3082be\",\"#2171b5\",\"#1361a9\",\n",
    "#               \"#08519c\",\"#0b4083\",\"#08306b\"]\n",
    "\n",
    "colorscale = [\"#08306b\",\"#3082be\",\"#c6dbef\"]\n",
    "\n",
    "fips = cross['FIPS'].tolist()\n",
    "values = cross['FE_Y_G3'].astype(int).tolist()\n",
    "\n",
    "fig = ff.create_choropleth(\n",
    "    fips=fips, values=values,\n",
    "    colorscale=colorscale,\n",
    "    show_hover=True, \n",
    "    centroid_marker={'opacity': 0},\n",
    "    asp=2.9,\n",
    "    state_outline={'color': 'rgb(0,0,0)', 'width': 0.5},\n",
    "    county_outline={'color': 'rgb(255,255,255)', 'width': 0.5},\n",
    ")\n",
    "\n",
    "fig.layout.template = None\n",
    "fig.show()\n"
   ]
  },
  {
   "cell_type": "code",
   "execution_count": null,
   "metadata": {
    "ExecuteTime": {
     "end_time": "2022-04-22T18:47:13.546781Z",
     "start_time": "2022-04-22T18:47:07.978367Z"
    },
    "hidden": true
   },
   "outputs": [],
   "source": [
    "# plot mappings for G3 G4 using FIPS\n",
    "# colorscale = [\"#f7fbff\",\"#ebf3fb\",\"#deebf7\",\"#d2e3f3\",\"#c6dbef\",\"#b3d2e9\",\"#9ecae1\",\n",
    "#               \"#85bcdb\",\"#6baed6\",\"#57a0ce\",\"#4292c6\",\"#3082be\",\"#2171b5\",\"#1361a9\",\n",
    "#               \"#08519c\",\"#0b4083\",\"#08306b\"]\n",
    "\n",
    "colorscale = [\"#08306b\",\"#3082be\",\"#85bcdb\",\"#c6dbef\"]\n",
    "\n",
    "fips = cross['FIPS'].tolist()\n",
    "values = cross['FE_Y_G4'].astype(int).tolist()\n",
    "\n",
    "fig = ff.create_choropleth(\n",
    "    fips=fips, values=values,\n",
    "    colorscale=colorscale,\n",
    "    show_hover=True, \n",
    "    centroid_marker={'opacity': 0},\n",
    "    asp=2.9,\n",
    "    state_outline={'color': 'rgb(0,0,0)', 'width': 0.5},\n",
    "    county_outline={'color': 'rgb(255,255,255)', 'width': 0.5},\n",
    ")\n",
    "\n",
    "fig.layout.template = None\n",
    "fig.show()\n"
   ]
  },
  {
   "cell_type": "markdown",
   "metadata": {
    "ExecuteTime": {
     "end_time": "2022-04-01T16:53:32.334727Z",
     "start_time": "2022-04-01T16:53:32.303990Z"
    },
    "heading_collapsed": true
   },
   "source": [
    "## Robustness: FE without lagged dependent variables"
   ]
  },
  {
   "cell_type": "code",
   "execution_count": 9,
   "metadata": {
    "ExecuteTime": {
     "end_time": "2022-04-23T11:57:43.730285Z",
     "start_time": "2022-04-23T11:57:43.707387Z"
    },
    "hidden": true
   },
   "outputs": [],
   "source": [
    "# read MSA features\n",
    "df1 = pd.read_csv('./data/MSA_features.csv')\n",
    "\n",
    "# read group estimates\n",
    "df2 = pd.read_csv('./output/EMP/EMP_FE_NoYlag_Gr_re.csv',header=None)\n",
    "# clean up\n",
    "df2 = df2.iloc[:,[1,2,3]]\n",
    "df2.columns = ['FE_NoY_G2','FE_NoY_G3','FE_NoY_G4']\n",
    "\n",
    "# merge the two\n",
    "Gr = pd.concat([df1,df2],axis=1) "
   ]
  },
  {
   "cell_type": "code",
   "execution_count": 10,
   "metadata": {
    "ExecuteTime": {
     "end_time": "2022-04-23T11:57:45.675297Z",
     "start_time": "2022-04-23T11:57:45.632665Z"
    },
    "hidden": true
   },
   "outputs": [],
   "source": [
    "# mean\n",
    "base = Gr[['FE_NoY_G2','RGDPPC','PINCPC','POP','EMP','WRLURI','elasticity','D2I_Low','D2I_H']].groupby('FE_NoY_G2').mean().reset_index()\n",
    "for g in ['FE_NoY_G3','FE_NoY_G4']:\n",
    "    base = pd.concat([base,Gr[[g,'RGDPPC','PINCPC','POP','EMP','WRLURI','elasticity','D2I_Low','D2I_H']].groupby(g).mean().reset_index()])\n",
    "    \n",
    "    \n",
    "# standard deviation\n",
    "base1 = Gr[['FE_NoY_G2','RGDPPC','PINCPC','POP','EMP','WRLURI','elasticity','D2I_Low','D2I_H']].groupby('FE_NoY_G2').std().reset_index()\n",
    "for g in ['FE_NoY_G3','FE_NoY_G4']:\n",
    "    base1 = pd.concat([base1,Gr[[g,'RGDPPC','PINCPC','POP','EMP','WRLURI','elasticity','D2I_Low','D2I_H']].groupby(g).std().reset_index()])\n",
    "\n",
    "count = Gr.groupby('FE_NoY_G2')['MSA'].count().reset_index()\n",
    "for g in ['FE_NoY_G3','FE_NoY_G4']:\n",
    "    count = pd.concat([count,Gr[[g,'MSA']].groupby(g)['MSA'].count().reset_index()])\n",
    "\n",
    "tab6 = pd.concat([base,base1,count['MSA']],axis=1)\n",
    "#tab6.iloc[:,[22,0,1,12,2,13,3,14,4,15,5,16,6,17,7,18,8,19,9,10]]"
   ]
  },
  {
   "cell_type": "code",
   "execution_count": 11,
   "metadata": {
    "ExecuteTime": {
     "end_time": "2022-04-23T11:57:47.008339Z",
     "start_time": "2022-04-23T11:57:46.992023Z"
    },
    "hidden": true
   },
   "outputs": [],
   "source": [
    "tab6['Gr'] = [1,2,1,2,3,1,2,3,4]"
   ]
  },
  {
   "cell_type": "code",
   "execution_count": 12,
   "metadata": {
    "ExecuteTime": {
     "end_time": "2022-04-23T11:57:52.136617Z",
     "start_time": "2022-04-23T11:57:52.101405Z"
    },
    "hidden": true
   },
   "outputs": [
    {
     "data": {
      "text/html": [
       "<div>\n",
       "<style scoped>\n",
       "    .dataframe tbody tr th:only-of-type {\n",
       "        vertical-align: middle;\n",
       "    }\n",
       "\n",
       "    .dataframe tbody tr th {\n",
       "        vertical-align: top;\n",
       "    }\n",
       "\n",
       "    .dataframe thead th {\n",
       "        text-align: right;\n",
       "    }\n",
       "</style>\n",
       "<table border=\"1\" class=\"dataframe\">\n",
       "  <thead>\n",
       "    <tr style=\"text-align: right;\">\n",
       "      <th></th>\n",
       "      <th>Gr</th>\n",
       "      <th>MSA</th>\n",
       "      <th>RGDPPC</th>\n",
       "      <th>RGDPPC</th>\n",
       "      <th>PINCPC</th>\n",
       "      <th>PINCPC</th>\n",
       "      <th>POP</th>\n",
       "      <th>POP</th>\n",
       "      <th>EMP</th>\n",
       "      <th>EMP</th>\n",
       "      <th>WRLURI</th>\n",
       "      <th>WRLURI</th>\n",
       "      <th>elasticity</th>\n",
       "      <th>elasticity</th>\n",
       "      <th>D2I_Low</th>\n",
       "      <th>D2I_Low</th>\n",
       "      <th>D2I_H</th>\n",
       "      <th>D2I_H</th>\n",
       "    </tr>\n",
       "  </thead>\n",
       "  <tbody>\n",
       "    <tr>\n",
       "      <th>0</th>\n",
       "      <td>1</td>\n",
       "      <td>81</td>\n",
       "      <td>52090.940820</td>\n",
       "      <td>21252.063606</td>\n",
       "      <td>48205.506173</td>\n",
       "      <td>13568.631738</td>\n",
       "      <td>932.447827</td>\n",
       "      <td>1864.314296</td>\n",
       "      <td>580.632605</td>\n",
       "      <td>1211.782082</td>\n",
       "      <td>0.229714</td>\n",
       "      <td>0.996099</td>\n",
       "      <td>2.091972</td>\n",
       "      <td>1.010341</td>\n",
       "      <td>1.523241</td>\n",
       "      <td>0.491167</td>\n",
       "      <td>1.681513</td>\n",
       "      <td>0.478479</td>\n",
       "    </tr>\n",
       "    <tr>\n",
       "      <th>1</th>\n",
       "      <td>2</td>\n",
       "      <td>301</td>\n",
       "      <td>45678.211175</td>\n",
       "      <td>11312.857996</td>\n",
       "      <td>45300.983389</td>\n",
       "      <td>8752.315601</td>\n",
       "      <td>675.826867</td>\n",
       "      <td>1564.423783</td>\n",
       "      <td>418.152551</td>\n",
       "      <td>1018.792152</td>\n",
       "      <td>-0.215254</td>\n",
       "      <td>0.749110</td>\n",
       "      <td>2.724737</td>\n",
       "      <td>1.515749</td>\n",
       "      <td>1.402742</td>\n",
       "      <td>0.480231</td>\n",
       "      <td>1.562405</td>\n",
       "      <td>0.446540</td>\n",
       "    </tr>\n",
       "    <tr>\n",
       "      <th>0</th>\n",
       "      <td>1</td>\n",
       "      <td>31</td>\n",
       "      <td>54013.539189</td>\n",
       "      <td>20465.200620</td>\n",
       "      <td>48826.967742</td>\n",
       "      <td>13319.425187</td>\n",
       "      <td>1327.491806</td>\n",
       "      <td>2479.198280</td>\n",
       "      <td>799.685323</td>\n",
       "      <td>1592.017831</td>\n",
       "      <td>0.428975</td>\n",
       "      <td>0.929194</td>\n",
       "      <td>1.747071</td>\n",
       "      <td>0.984927</td>\n",
       "      <td>1.720323</td>\n",
       "      <td>0.458419</td>\n",
       "      <td>1.826019</td>\n",
       "      <td>0.447860</td>\n",
       "    </tr>\n",
       "    <tr>\n",
       "      <th>1</th>\n",
       "      <td>2</td>\n",
       "      <td>181</td>\n",
       "      <td>48591.710421</td>\n",
       "      <td>15244.346106</td>\n",
       "      <td>46557.629834</td>\n",
       "      <td>9693.610920</td>\n",
       "      <td>688.169818</td>\n",
       "      <td>1815.623568</td>\n",
       "      <td>433.961834</td>\n",
       "      <td>1185.789129</td>\n",
       "      <td>-0.176023</td>\n",
       "      <td>0.864611</td>\n",
       "      <td>2.750240</td>\n",
       "      <td>1.634293</td>\n",
       "      <td>1.336889</td>\n",
       "      <td>0.497566</td>\n",
       "      <td>1.502818</td>\n",
       "      <td>0.435140</td>\n",
       "    </tr>\n",
       "    <tr>\n",
       "      <th>2</th>\n",
       "      <td>3</td>\n",
       "      <td>170</td>\n",
       "      <td>44111.696877</td>\n",
       "      <td>10701.675003</td>\n",
       "      <td>44703.970588</td>\n",
       "      <td>9553.625471</td>\n",
       "      <td>666.124576</td>\n",
       "      <td>1158.056834</td>\n",
       "      <td>409.163659</td>\n",
       "      <td>758.730036</td>\n",
       "      <td>-0.164509</td>\n",
       "      <td>0.735345</td>\n",
       "      <td>2.584304</td>\n",
       "      <td>1.262761</td>\n",
       "      <td>1.471971</td>\n",
       "      <td>0.449127</td>\n",
       "      <td>1.637058</td>\n",
       "      <td>0.458652</td>\n",
       "    </tr>\n",
       "    <tr>\n",
       "      <th>0</th>\n",
       "      <td>1</td>\n",
       "      <td>12</td>\n",
       "      <td>56274.551371</td>\n",
       "      <td>10565.712124</td>\n",
       "      <td>51268.083333</td>\n",
       "      <td>8832.893755</td>\n",
       "      <td>2029.007417</td>\n",
       "      <td>3717.287565</td>\n",
       "      <td>1291.545417</td>\n",
       "      <td>2427.724559</td>\n",
       "      <td>0.465637</td>\n",
       "      <td>0.524941</td>\n",
       "      <td>1.232472</td>\n",
       "      <td>0.892922</td>\n",
       "      <td>1.898750</td>\n",
       "      <td>0.430650</td>\n",
       "      <td>2.063750</td>\n",
       "      <td>0.470220</td>\n",
       "    </tr>\n",
       "    <tr>\n",
       "      <th>1</th>\n",
       "      <td>2</td>\n",
       "      <td>157</td>\n",
       "      <td>49273.317269</td>\n",
       "      <td>17550.223213</td>\n",
       "      <td>47504.968153</td>\n",
       "      <td>12012.057431</td>\n",
       "      <td>774.285879</td>\n",
       "      <td>1943.255186</td>\n",
       "      <td>480.394975</td>\n",
       "      <td>1260.205959</td>\n",
       "      <td>0.022429</td>\n",
       "      <td>0.918448</td>\n",
       "      <td>2.373862</td>\n",
       "      <td>1.168969</td>\n",
       "      <td>1.443822</td>\n",
       "      <td>0.501381</td>\n",
       "      <td>1.585270</td>\n",
       "      <td>0.448979</td>\n",
       "    </tr>\n",
       "    <tr>\n",
       "      <th>2</th>\n",
       "      <td>3</td>\n",
       "      <td>110</td>\n",
       "      <td>46299.802202</td>\n",
       "      <td>10642.436579</td>\n",
       "      <td>45029.736364</td>\n",
       "      <td>7989.813664</td>\n",
       "      <td>648.140682</td>\n",
       "      <td>1091.991377</td>\n",
       "      <td>409.428782</td>\n",
       "      <td>742.096851</td>\n",
       "      <td>-0.252433</td>\n",
       "      <td>0.761629</td>\n",
       "      <td>2.812972</td>\n",
       "      <td>1.704544</td>\n",
       "      <td>1.397661</td>\n",
       "      <td>0.433252</td>\n",
       "      <td>1.581659</td>\n",
       "      <td>0.453095</td>\n",
       "    </tr>\n",
       "    <tr>\n",
       "      <th>3</th>\n",
       "      <td>4</td>\n",
       "      <td>103</td>\n",
       "      <td>43342.952429</td>\n",
       "      <td>10960.419401</td>\n",
       "      <td>43820.135922</td>\n",
       "      <td>8070.377166</td>\n",
       "      <td>599.472951</td>\n",
       "      <td>1095.282345</td>\n",
       "      <td>358.615893</td>\n",
       "      <td>687.788214</td>\n",
       "      <td>-0.236094</td>\n",
       "      <td>0.723642</td>\n",
       "      <td>2.779513</td>\n",
       "      <td>1.452085</td>\n",
       "      <td>1.382476</td>\n",
       "      <td>0.491507</td>\n",
       "      <td>1.548207</td>\n",
       "      <td>0.445405</td>\n",
       "    </tr>\n",
       "  </tbody>\n",
       "</table>\n",
       "</div>"
      ],
      "text/plain": [
       "   Gr  MSA        RGDPPC        RGDPPC        PINCPC        PINCPC  \\\n",
       "0   1   81  52090.940820  21252.063606  48205.506173  13568.631738   \n",
       "1   2  301  45678.211175  11312.857996  45300.983389   8752.315601   \n",
       "0   1   31  54013.539189  20465.200620  48826.967742  13319.425187   \n",
       "1   2  181  48591.710421  15244.346106  46557.629834   9693.610920   \n",
       "2   3  170  44111.696877  10701.675003  44703.970588   9553.625471   \n",
       "0   1   12  56274.551371  10565.712124  51268.083333   8832.893755   \n",
       "1   2  157  49273.317269  17550.223213  47504.968153  12012.057431   \n",
       "2   3  110  46299.802202  10642.436579  45029.736364   7989.813664   \n",
       "3   4  103  43342.952429  10960.419401  43820.135922   8070.377166   \n",
       "\n",
       "           POP          POP          EMP          EMP    WRLURI    WRLURI  \\\n",
       "0   932.447827  1864.314296   580.632605  1211.782082  0.229714  0.996099   \n",
       "1   675.826867  1564.423783   418.152551  1018.792152 -0.215254  0.749110   \n",
       "0  1327.491806  2479.198280   799.685323  1592.017831  0.428975  0.929194   \n",
       "1   688.169818  1815.623568   433.961834  1185.789129 -0.176023  0.864611   \n",
       "2   666.124576  1158.056834   409.163659   758.730036 -0.164509  0.735345   \n",
       "0  2029.007417  3717.287565  1291.545417  2427.724559  0.465637  0.524941   \n",
       "1   774.285879  1943.255186   480.394975  1260.205959  0.022429  0.918448   \n",
       "2   648.140682  1091.991377   409.428782   742.096851 -0.252433  0.761629   \n",
       "3   599.472951  1095.282345   358.615893   687.788214 -0.236094  0.723642   \n",
       "\n",
       "   elasticity  elasticity   D2I_Low   D2I_Low     D2I_H     D2I_H  \n",
       "0    2.091972    1.010341  1.523241  0.491167  1.681513  0.478479  \n",
       "1    2.724737    1.515749  1.402742  0.480231  1.562405  0.446540  \n",
       "0    1.747071    0.984927  1.720323  0.458419  1.826019  0.447860  \n",
       "1    2.750240    1.634293  1.336889  0.497566  1.502818  0.435140  \n",
       "2    2.584304    1.262761  1.471971  0.449127  1.637058  0.458652  \n",
       "0    1.232472    0.892922  1.898750  0.430650  2.063750  0.470220  \n",
       "1    2.373862    1.168969  1.443822  0.501381  1.585270  0.448979  \n",
       "2    2.812972    1.704544  1.397661  0.433252  1.581659  0.453095  \n",
       "3    2.779513    1.452085  1.382476  0.491507  1.548207  0.445405  "
      ]
     },
     "execution_count": 12,
     "metadata": {},
     "output_type": "execute_result"
    }
   ],
   "source": [
    "tab6.iloc[:,[23,22,1,12,2,13,3,14,4,15,5,16,6,17,7,18,8,19]]"
   ]
  },
  {
   "cell_type": "markdown",
   "metadata": {
    "hidden": true
   },
   "source": [
    "### Ad hoc grouping"
   ]
  },
  {
   "cell_type": "code",
   "execution_count": 13,
   "metadata": {
    "ExecuteTime": {
     "end_time": "2022-04-23T11:58:12.566654Z",
     "start_time": "2022-04-23T11:58:12.554681Z"
    },
    "hidden": true
   },
   "outputs": [
    {
     "name": "stdout",
     "output_type": "stream",
     "text": [
      "PINCPC Percentile:\n",
      "count       382.000000\n",
      "mean      45916.863874\n",
      "std       10019.399870\n",
      "min       25451.000000\n",
      "50%       43932.500000\n",
      "90%       56249.600000\n",
      "max      112769.000000\n",
      "Name: PINCPC, dtype: float64\n",
      "\n",
      "\n",
      "PINCPC Percentile in Group 1:\n",
      "count       31.000000\n",
      "mean     48826.967742\n",
      "std      13319.425187\n",
      "min      30153.000000\n",
      "10%      36809.000000\n",
      "50%      45087.000000\n",
      "max      98690.000000\n",
      "Name: PINCPC, dtype: float64\n"
     ]
    }
   ],
   "source": [
    "print('PINCPC Percentile:')\n",
    "pct_all = Gr.PINCPC.describe(percentiles=[0.9])\n",
    "print(pct_all)\n",
    "print('\\n')\n",
    "print('PINCPC Percentile in Group 1:')\n",
    "pct_g1 = Gr.loc[Gr['FE_NoY_G3']==1,'PINCPC'].describe(percentiles=[0.1])\n",
    "print(pct_g1)"
   ]
  },
  {
   "cell_type": "code",
   "execution_count": 14,
   "metadata": {
    "ExecuteTime": {
     "end_time": "2022-04-23T11:58:15.355306Z",
     "start_time": "2022-04-23T11:58:15.342046Z"
    },
    "hidden": true
   },
   "outputs": [],
   "source": [
    "Gr['PINCPC_Top10'] = 0\n",
    "Gr.loc[Gr.PINCPC>=56249.6,'PINCPC_Top10']=1\n",
    "\n",
    "Gr['FE_NoY_PoorG3_1'] = 0\n",
    "Gr.loc[(Gr['FE_NoY_G3']==1)&(Gr.PINCPC<=pct_g1[4]),'FE_NoY_PoorG3_1'] = 1"
   ]
  },
  {
   "cell_type": "code",
   "execution_count": 15,
   "metadata": {
    "ExecuteTime": {
     "end_time": "2022-04-23T11:58:15.885464Z",
     "start_time": "2022-04-23T11:58:15.854745Z"
    },
    "hidden": true
   },
   "outputs": [],
   "source": [
    "Gr.to_csv('./data/MSA_features_Adhoc_FE_NoYlag.csv',index=False)"
   ]
  },
  {
   "cell_type": "markdown",
   "metadata": {
    "heading_collapsed": true,
    "hidden": true
   },
   "source": [
    "### Map\n",
    "\n",
    "__First convert MSA to County__\n",
    "\n",
    "According to [Freddie Mac](http://www.freddiemac.com/research/indices/fmhpi-faq.page), the definition of MSAs follow the most recent ones in Office of Management and Budget (OMB).\n",
    "\n",
    "I take the Sep. 2018 one on their [website](https://www.census.gov/geographies/reference-files/time-series/demo/metro-micro/delineation-files.html)\n",
    "\n",
    "\n",
    "\n",
    "__Details of codes and requirements are [here](https://plot.ly/python/county-choropleth/)__"
   ]
  },
  {
   "cell_type": "code",
   "execution_count": 17,
   "metadata": {
    "ExecuteTime": {
     "end_time": "2022-04-22T19:02:17.429708Z",
     "start_time": "2022-04-22T19:02:17.361146Z"
    },
    "hidden": true
   },
   "outputs": [],
   "source": [
    "# load crosswalk\n",
    "cross = pd.read_csv('./data/cbsa_county.csv')\n",
    "cross['FIPS'] = cross.apply(lambda x: str(x['FIPS State Code']).zfill(2)+str(x['FIPS County Code']).zfill(3), axis = 1) \n",
    "cross = cross.iloc[:,[0,1,6]]\n",
    "cross.columns = ['cbsa','MSA','FIPS']\n",
    "\n",
    "# load MSA feature\n",
    "Gr.cbsa = Gr.cbsa.astype(int)\n",
    "\n",
    "# merge data\n",
    "cross = pd.merge(cross,Gr.loc[:,['cbsa','FE_NoY_G3','FE_NoY_G4']],how='outer',on='cbsa',indicator=True)\n",
    "\n",
    "# keep only 382 MSAs used\n",
    "cross = cross[cross._merge=='both']\n",
    "cross = cross.drop(columns='_merge')"
   ]
  },
  {
   "cell_type": "code",
   "execution_count": null,
   "metadata": {
    "ExecuteTime": {
     "end_time": "2022-04-22T19:02:24.811320Z",
     "start_time": "2022-04-22T19:02:18.502619Z"
    },
    "hidden": true
   },
   "outputs": [],
   "source": [
    "# plot mappings for G3 G4 using FIPS\n",
    "# colorscale = [\"#f7fbff\",\"#ebf3fb\",\"#deebf7\",\"#d2e3f3\",\"#c6dbef\",\"#b3d2e9\",\"#9ecae1\",\n",
    "#               \"#85bcdb\",\"#6baed6\",\"#57a0ce\",\"#4292c6\",\"#3082be\",\"#2171b5\",\"#1361a9\",\n",
    "#               \"#08519c\",\"#0b4083\",\"#08306b\"]\n",
    "\n",
    "colorscale = [\"#08306b\",\"#3082be\",\"#c6dbef\"]\n",
    "\n",
    "fips = cross['FIPS'].tolist()\n",
    "values = cross['FE_NoY_G3'].astype(int).tolist()\n",
    "\n",
    "fig = ff.create_choropleth(\n",
    "    fips=fips, values=values,\n",
    "    colorscale=colorscale,\n",
    "    show_hover=True, \n",
    "    centroid_marker={'opacity': 0},\n",
    "    asp=2.9,\n",
    "    state_outline={'color': 'rgb(0,0,0)', 'width': 0.5},\n",
    "    county_outline={'color': 'rgb(255,255,255)', 'width': 0.5},\n",
    ")\n",
    "\n",
    "fig.layout.template = None\n",
    "fig.show()\n"
   ]
  },
  {
   "cell_type": "code",
   "execution_count": null,
   "metadata": {
    "ExecuteTime": {
     "end_time": "2022-04-22T19:02:32.094418Z",
     "start_time": "2022-04-22T19:02:26.353351Z"
    },
    "hidden": true
   },
   "outputs": [],
   "source": [
    "# plot mappings for G3 G4 using FIPS\n",
    "# colorscale = [\"#f7fbff\",\"#ebf3fb\",\"#deebf7\",\"#d2e3f3\",\"#c6dbef\",\"#b3d2e9\",\"#9ecae1\",\n",
    "#               \"#85bcdb\",\"#6baed6\",\"#57a0ce\",\"#4292c6\",\"#3082be\",\"#2171b5\",\"#1361a9\",\n",
    "#               \"#08519c\",\"#0b4083\",\"#08306b\"]\n",
    "\n",
    "colorscale = [\"#08306b\",\"#3082be\",\"#85bcdb\",\"#c6dbef\"]\n",
    "\n",
    "fips = cross['FIPS'].tolist()\n",
    "values = cross['FE_NoY_G4'].astype(int).tolist()\n",
    "\n",
    "fig = ff.create_choropleth(\n",
    "    fips=fips, values=values,\n",
    "    colorscale=colorscale,\n",
    "    show_hover=True, \n",
    "    centroid_marker={'opacity': 0},\n",
    "    asp=2.9,\n",
    "    state_outline={'color': 'rgb(0,0,0)', 'width': 0.5},\n",
    "    county_outline={'color': 'rgb(255,255,255)', 'width': 0.5},\n",
    ")\n",
    "\n",
    "fig.layout.template = None\n",
    "fig.show()\n"
   ]
  },
  {
   "cell_type": "markdown",
   "metadata": {},
   "source": [
    "## Horizon-by-horizon grouping"
   ]
  },
  {
   "cell_type": "code",
   "execution_count": 16,
   "metadata": {
    "ExecuteTime": {
     "end_time": "2022-04-23T12:26:58.478297Z",
     "start_time": "2022-04-23T12:26:58.461378Z"
    }
   },
   "outputs": [],
   "source": [
    "Gr = pd.read_csv('./output/EMP/EMP_HBH_Gr_re.csv',header=None)\n",
    "col_name = []\n",
    "for h in range(1,25):\n",
    "    col_name.append('H='+str(h))\n",
    "Gr.columns = col_name"
   ]
  },
  {
   "cell_type": "code",
   "execution_count": 17,
   "metadata": {
    "ExecuteTime": {
     "end_time": "2022-04-23T12:27:02.338670Z",
     "start_time": "2022-04-23T12:27:02.326760Z"
    }
   },
   "outputs": [],
   "source": [
    "MSA_list = pd.read_csv('./data/MSA_features.csv')\n",
    "MSA_list = pd.concat([MSA_list,Gr],axis=1)"
   ]
  },
  {
   "cell_type": "code",
   "execution_count": 18,
   "metadata": {
    "ExecuteTime": {
     "end_time": "2022-04-23T12:27:17.379201Z",
     "start_time": "2022-04-23T12:27:17.323988Z"
    }
   },
   "outputs": [],
   "source": [
    "# mean\n",
    "base = MSA_list[['H=1','RGDPPC','PINCPC','POP','EMP','WRLURI','elasticity','D2I_Low','D2I_H']].groupby('H=1').mean().reset_index()\n",
    "for g in ['H=6','H=12','H=18','H=24']:\n",
    "    base = pd.concat([base,MSA_list[[g,'RGDPPC','PINCPC','POP','EMP','WRLURI','elasticity','D2I_Low','D2I_H']].groupby(g).mean().reset_index()])\n",
    "    \n",
    "# standard deviation\n",
    "base1 = MSA_list[['H=1','RGDPPC','PINCPC','POP','EMP','WRLURI','elasticity','D2I_Low','D2I_H']].groupby('H=1').std().reset_index()\n",
    "for g in ['H=6','H=12','H=18','H=24']:\n",
    "    base1 = pd.concat([base1,MSA_list[[g,'RGDPPC','PINCPC','POP','EMP','WRLURI','elasticity','D2I_Low','D2I_H']].groupby(g).std().reset_index()])\n",
    "\n",
    "count = MSA_list.groupby('H=1')['MSA'].count().reset_index()\n",
    "for g in ['H=6','H=12','H=18','H=24']:\n",
    "    count = pd.concat([count,MSA_list[[g,'MSA']].groupby(g)['MSA'].count().reset_index()])\n",
    "\n",
    "tab6 = pd.concat([base,base1,count['MSA']],axis=1)\n",
    "#tab6.iloc[:,[22,0,1,12,2,13,3,14,4,15,5,16,6,17,7,18,8,19,9,10]]"
   ]
  },
  {
   "cell_type": "code",
   "execution_count": 19,
   "metadata": {
    "ExecuteTime": {
     "end_time": "2022-04-23T12:27:18.173393Z",
     "start_time": "2022-04-23T12:27:18.164431Z"
    }
   },
   "outputs": [],
   "source": [
    "tab6['Gr'] = [1,2,3]*5"
   ]
  },
  {
   "cell_type": "code",
   "execution_count": 20,
   "metadata": {
    "ExecuteTime": {
     "end_time": "2022-04-23T12:27:23.824550Z",
     "start_time": "2022-04-23T12:27:23.800879Z"
    }
   },
   "outputs": [
    {
     "data": {
      "text/html": [
       "<div>\n",
       "<style scoped>\n",
       "    .dataframe tbody tr th:only-of-type {\n",
       "        vertical-align: middle;\n",
       "    }\n",
       "\n",
       "    .dataframe tbody tr th {\n",
       "        vertical-align: top;\n",
       "    }\n",
       "\n",
       "    .dataframe thead th {\n",
       "        text-align: right;\n",
       "    }\n",
       "</style>\n",
       "<table border=\"1\" class=\"dataframe\">\n",
       "  <thead>\n",
       "    <tr style=\"text-align: right;\">\n",
       "      <th></th>\n",
       "      <th>Gr</th>\n",
       "      <th>MSA</th>\n",
       "      <th>RGDPPC</th>\n",
       "      <th>RGDPPC</th>\n",
       "      <th>PINCPC</th>\n",
       "      <th>PINCPC</th>\n",
       "      <th>POP</th>\n",
       "      <th>POP</th>\n",
       "      <th>EMP</th>\n",
       "      <th>EMP</th>\n",
       "      <th>WRLURI</th>\n",
       "      <th>WRLURI</th>\n",
       "      <th>elasticity</th>\n",
       "      <th>elasticity</th>\n",
       "      <th>D2I_Low</th>\n",
       "      <th>D2I_Low</th>\n",
       "      <th>D2I_H</th>\n",
       "      <th>D2I_H</th>\n",
       "    </tr>\n",
       "  </thead>\n",
       "  <tbody>\n",
       "    <tr>\n",
       "      <th>0</th>\n",
       "      <td>1</td>\n",
       "      <td>88</td>\n",
       "      <td>48935.751096</td>\n",
       "      <td>15842.882291</td>\n",
       "      <td>47240.909091</td>\n",
       "      <td>10238.172841</td>\n",
       "      <td>1039.528466</td>\n",
       "      <td>2612.536198</td>\n",
       "      <td>644.257398</td>\n",
       "      <td>1702.742843</td>\n",
       "      <td>0.271589</td>\n",
       "      <td>0.760227</td>\n",
       "      <td>1.970821</td>\n",
       "      <td>0.813924</td>\n",
       "      <td>1.561648</td>\n",
       "      <td>0.500916</td>\n",
       "      <td>1.723598</td>\n",
       "      <td>0.487022</td>\n",
       "    </tr>\n",
       "    <tr>\n",
       "      <th>1</th>\n",
       "      <td>2</td>\n",
       "      <td>168</td>\n",
       "      <td>48398.590215</td>\n",
       "      <td>15055.734289</td>\n",
       "      <td>46585.380952</td>\n",
       "      <td>10848.316756</td>\n",
       "      <td>610.860714</td>\n",
       "      <td>1176.335930</td>\n",
       "      <td>380.534274</td>\n",
       "      <td>751.075102</td>\n",
       "      <td>-0.290940</td>\n",
       "      <td>0.830919</td>\n",
       "      <td>2.881360</td>\n",
       "      <td>1.684563</td>\n",
       "      <td>1.325506</td>\n",
       "      <td>0.437612</td>\n",
       "      <td>1.497912</td>\n",
       "      <td>0.413262</td>\n",
       "    </tr>\n",
       "    <tr>\n",
       "      <th>2</th>\n",
       "      <td>3</td>\n",
       "      <td>126</td>\n",
       "      <td>43898.400933</td>\n",
       "      <td>11167.634074</td>\n",
       "      <td>44100.777778</td>\n",
       "      <td>8404.823848</td>\n",
       "      <td>673.405206</td>\n",
       "      <td>1201.232063</td>\n",
       "      <td>414.847222</td>\n",
       "      <td>799.028955</td>\n",
       "      <td>-0.176583</td>\n",
       "      <td>0.784304</td>\n",
       "      <td>2.651478</td>\n",
       "      <td>1.343641</td>\n",
       "      <td>1.472760</td>\n",
       "      <td>0.506280</td>\n",
       "      <td>1.616737</td>\n",
       "      <td>0.464690</td>\n",
       "    </tr>\n",
       "    <tr>\n",
       "      <th>0</th>\n",
       "      <td>1</td>\n",
       "      <td>30</td>\n",
       "      <td>52835.671460</td>\n",
       "      <td>21678.992257</td>\n",
       "      <td>48809.533333</td>\n",
       "      <td>13914.508035</td>\n",
       "      <td>1449.084500</td>\n",
       "      <td>2590.599992</td>\n",
       "      <td>888.015667</td>\n",
       "      <td>1692.425419</td>\n",
       "      <td>0.460160</td>\n",
       "      <td>0.579185</td>\n",
       "      <td>1.618602</td>\n",
       "      <td>0.884371</td>\n",
       "      <td>1.784167</td>\n",
       "      <td>0.447986</td>\n",
       "      <td>1.915577</td>\n",
       "      <td>0.457305</td>\n",
       "    </tr>\n",
       "    <tr>\n",
       "      <th>1</th>\n",
       "      <td>2</td>\n",
       "      <td>244</td>\n",
       "      <td>47652.712703</td>\n",
       "      <td>13691.009316</td>\n",
       "      <td>45883.831967</td>\n",
       "      <td>9203.178069</td>\n",
       "      <td>768.264881</td>\n",
       "      <td>1742.905485</td>\n",
       "      <td>482.631881</td>\n",
       "      <td>1136.124016</td>\n",
       "      <td>-0.165787</td>\n",
       "      <td>0.829408</td>\n",
       "      <td>2.666156</td>\n",
       "      <td>1.412928</td>\n",
       "      <td>1.347305</td>\n",
       "      <td>0.437703</td>\n",
       "      <td>1.508528</td>\n",
       "      <td>0.405826</td>\n",
       "    </tr>\n",
       "    <tr>\n",
       "      <th>2</th>\n",
       "      <td>3</td>\n",
       "      <td>108</td>\n",
       "      <td>44038.664138</td>\n",
       "      <td>12190.289794</td>\n",
       "      <td>45187.972222</td>\n",
       "      <td>10475.951449</td>\n",
       "      <td>444.657361</td>\n",
       "      <td>742.747304</td>\n",
       "      <td>263.819537</td>\n",
       "      <td>474.184614</td>\n",
       "      <td>-0.180862</td>\n",
       "      <td>0.823911</td>\n",
       "      <td>2.689891</td>\n",
       "      <td>1.558232</td>\n",
       "      <td>1.511898</td>\n",
       "      <td>0.536952</td>\n",
       "      <td>1.685784</td>\n",
       "      <td>0.507993</td>\n",
       "    </tr>\n",
       "    <tr>\n",
       "      <th>0</th>\n",
       "      <td>1</td>\n",
       "      <td>42</td>\n",
       "      <td>53631.149450</td>\n",
       "      <td>18969.807961</td>\n",
       "      <td>49157.785714</td>\n",
       "      <td>12791.473007</td>\n",
       "      <td>1202.201190</td>\n",
       "      <td>2250.903731</td>\n",
       "      <td>742.842714</td>\n",
       "      <td>1469.903119</td>\n",
       "      <td>0.442819</td>\n",
       "      <td>0.838262</td>\n",
       "      <td>1.741417</td>\n",
       "      <td>0.885730</td>\n",
       "      <td>1.682619</td>\n",
       "      <td>0.493855</td>\n",
       "      <td>1.849934</td>\n",
       "      <td>0.491231</td>\n",
       "    </tr>\n",
       "    <tr>\n",
       "      <th>1</th>\n",
       "      <td>2</td>\n",
       "      <td>240</td>\n",
       "      <td>47948.042304</td>\n",
       "      <td>13952.904760</td>\n",
       "      <td>46126.716667</td>\n",
       "      <td>9991.960878</td>\n",
       "      <td>733.079458</td>\n",
       "      <td>1703.922223</td>\n",
       "      <td>460.900846</td>\n",
       "      <td>1111.802570</td>\n",
       "      <td>-0.215855</td>\n",
       "      <td>0.807262</td>\n",
       "      <td>2.687325</td>\n",
       "      <td>1.430214</td>\n",
       "      <td>1.349456</td>\n",
       "      <td>0.428293</td>\n",
       "      <td>1.519167</td>\n",
       "      <td>0.406832</td>\n",
       "    </tr>\n",
       "    <tr>\n",
       "      <th>2</th>\n",
       "      <td>3</td>\n",
       "      <td>100</td>\n",
       "      <td>42084.693402</td>\n",
       "      <td>10725.939090</td>\n",
       "      <td>44052.030000</td>\n",
       "      <td>8335.399189</td>\n",
       "      <td>525.206410</td>\n",
       "      <td>1011.508190</td>\n",
       "      <td>310.795620</td>\n",
       "      <td>643.221437</td>\n",
       "      <td>-0.121787</td>\n",
       "      <td>0.779379</td>\n",
       "      <td>2.717142</td>\n",
       "      <td>1.575701</td>\n",
       "      <td>1.510150</td>\n",
       "      <td>0.556435</td>\n",
       "      <td>1.652011</td>\n",
       "      <td>0.509962</td>\n",
       "    </tr>\n",
       "    <tr>\n",
       "      <th>0</th>\n",
       "      <td>1</td>\n",
       "      <td>20</td>\n",
       "      <td>53006.961942</td>\n",
       "      <td>24374.100288</td>\n",
       "      <td>48564.900000</td>\n",
       "      <td>14018.352493</td>\n",
       "      <td>1592.322550</td>\n",
       "      <td>2968.167271</td>\n",
       "      <td>947.633550</td>\n",
       "      <td>1912.198229</td>\n",
       "      <td>0.259883</td>\n",
       "      <td>0.631199</td>\n",
       "      <td>1.835936</td>\n",
       "      <td>1.043152</td>\n",
       "      <td>1.777375</td>\n",
       "      <td>0.484570</td>\n",
       "      <td>1.882353</td>\n",
       "      <td>0.482060</td>\n",
       "    </tr>\n",
       "    <tr>\n",
       "      <th>1</th>\n",
       "      <td>2</td>\n",
       "      <td>90</td>\n",
       "      <td>49725.915881</td>\n",
       "      <td>14294.192341</td>\n",
       "      <td>47233.566667</td>\n",
       "      <td>10539.255406</td>\n",
       "      <td>955.116211</td>\n",
       "      <td>2311.568056</td>\n",
       "      <td>604.544956</td>\n",
       "      <td>1512.400940</td>\n",
       "      <td>0.170546</td>\n",
       "      <td>0.833259</td>\n",
       "      <td>1.963381</td>\n",
       "      <td>0.813607</td>\n",
       "      <td>1.448861</td>\n",
       "      <td>0.469207</td>\n",
       "      <td>1.611134</td>\n",
       "      <td>0.444093</td>\n",
       "    </tr>\n",
       "    <tr>\n",
       "      <th>2</th>\n",
       "      <td>3</td>\n",
       "      <td>272</td>\n",
       "      <td>45709.691552</td>\n",
       "      <td>13005.180971</td>\n",
       "      <td>45286.481618</td>\n",
       "      <td>9454.509781</td>\n",
       "      <td>592.445776</td>\n",
       "      <td>1134.750312</td>\n",
       "      <td>365.931772</td>\n",
       "      <td>740.173170</td>\n",
       "      <td>-0.247815</td>\n",
       "      <td>0.807590</td>\n",
       "      <td>2.858530</td>\n",
       "      <td>1.549959</td>\n",
       "      <td>1.395793</td>\n",
       "      <td>0.480605</td>\n",
       "      <td>1.560192</td>\n",
       "      <td>0.451700</td>\n",
       "    </tr>\n",
       "    <tr>\n",
       "      <th>0</th>\n",
       "      <td>1</td>\n",
       "      <td>46</td>\n",
       "      <td>51229.122822</td>\n",
       "      <td>19036.323744</td>\n",
       "      <td>47611.413043</td>\n",
       "      <td>12017.011158</td>\n",
       "      <td>1173.474500</td>\n",
       "      <td>2227.468282</td>\n",
       "      <td>716.265826</td>\n",
       "      <td>1443.561829</td>\n",
       "      <td>0.452651</td>\n",
       "      <td>0.820757</td>\n",
       "      <td>1.825275</td>\n",
       "      <td>0.932333</td>\n",
       "      <td>1.640435</td>\n",
       "      <td>0.560149</td>\n",
       "      <td>1.757000</td>\n",
       "      <td>0.500260</td>\n",
       "    </tr>\n",
       "    <tr>\n",
       "      <th>1</th>\n",
       "      <td>2</td>\n",
       "      <td>185</td>\n",
       "      <td>47220.668383</td>\n",
       "      <td>11778.454487</td>\n",
       "      <td>46084.324324</td>\n",
       "      <td>9129.059246</td>\n",
       "      <td>752.178162</td>\n",
       "      <td>1839.610381</td>\n",
       "      <td>471.541281</td>\n",
       "      <td>1204.669671</td>\n",
       "      <td>-0.215357</td>\n",
       "      <td>0.809869</td>\n",
       "      <td>2.655926</td>\n",
       "      <td>1.489266</td>\n",
       "      <td>1.405476</td>\n",
       "      <td>0.459338</td>\n",
       "      <td>1.584333</td>\n",
       "      <td>0.462445</td>\n",
       "    </tr>\n",
       "    <tr>\n",
       "      <th>2</th>\n",
       "      <td>3</td>\n",
       "      <td>151</td>\n",
       "      <td>45537.380593</td>\n",
       "      <td>15091.461802</td>\n",
       "      <td>45195.476821</td>\n",
       "      <td>10392.054416</td>\n",
       "      <td>568.340225</td>\n",
       "      <td>1024.499249</td>\n",
       "      <td>349.084728</td>\n",
       "      <td>657.555203</td>\n",
       "      <td>-0.177758</td>\n",
       "      <td>0.780113</td>\n",
       "      <td>2.757712</td>\n",
       "      <td>1.454044</td>\n",
       "      <td>1.391639</td>\n",
       "      <td>0.476667</td>\n",
       "      <td>1.543802</td>\n",
       "      <td>0.424633</td>\n",
       "    </tr>\n",
       "  </tbody>\n",
       "</table>\n",
       "</div>"
      ],
      "text/plain": [
       "   Gr  MSA        RGDPPC        RGDPPC        PINCPC        PINCPC  \\\n",
       "0   1   88  48935.751096  15842.882291  47240.909091  10238.172841   \n",
       "1   2  168  48398.590215  15055.734289  46585.380952  10848.316756   \n",
       "2   3  126  43898.400933  11167.634074  44100.777778   8404.823848   \n",
       "0   1   30  52835.671460  21678.992257  48809.533333  13914.508035   \n",
       "1   2  244  47652.712703  13691.009316  45883.831967   9203.178069   \n",
       "2   3  108  44038.664138  12190.289794  45187.972222  10475.951449   \n",
       "0   1   42  53631.149450  18969.807961  49157.785714  12791.473007   \n",
       "1   2  240  47948.042304  13952.904760  46126.716667   9991.960878   \n",
       "2   3  100  42084.693402  10725.939090  44052.030000   8335.399189   \n",
       "0   1   20  53006.961942  24374.100288  48564.900000  14018.352493   \n",
       "1   2   90  49725.915881  14294.192341  47233.566667  10539.255406   \n",
       "2   3  272  45709.691552  13005.180971  45286.481618   9454.509781   \n",
       "0   1   46  51229.122822  19036.323744  47611.413043  12017.011158   \n",
       "1   2  185  47220.668383  11778.454487  46084.324324   9129.059246   \n",
       "2   3  151  45537.380593  15091.461802  45195.476821  10392.054416   \n",
       "\n",
       "           POP          POP         EMP          EMP    WRLURI    WRLURI  \\\n",
       "0  1039.528466  2612.536198  644.257398  1702.742843  0.271589  0.760227   \n",
       "1   610.860714  1176.335930  380.534274   751.075102 -0.290940  0.830919   \n",
       "2   673.405206  1201.232063  414.847222   799.028955 -0.176583  0.784304   \n",
       "0  1449.084500  2590.599992  888.015667  1692.425419  0.460160  0.579185   \n",
       "1   768.264881  1742.905485  482.631881  1136.124016 -0.165787  0.829408   \n",
       "2   444.657361   742.747304  263.819537   474.184614 -0.180862  0.823911   \n",
       "0  1202.201190  2250.903731  742.842714  1469.903119  0.442819  0.838262   \n",
       "1   733.079458  1703.922223  460.900846  1111.802570 -0.215855  0.807262   \n",
       "2   525.206410  1011.508190  310.795620   643.221437 -0.121787  0.779379   \n",
       "0  1592.322550  2968.167271  947.633550  1912.198229  0.259883  0.631199   \n",
       "1   955.116211  2311.568056  604.544956  1512.400940  0.170546  0.833259   \n",
       "2   592.445776  1134.750312  365.931772   740.173170 -0.247815  0.807590   \n",
       "0  1173.474500  2227.468282  716.265826  1443.561829  0.452651  0.820757   \n",
       "1   752.178162  1839.610381  471.541281  1204.669671 -0.215357  0.809869   \n",
       "2   568.340225  1024.499249  349.084728   657.555203 -0.177758  0.780113   \n",
       "\n",
       "   elasticity  elasticity   D2I_Low   D2I_Low     D2I_H     D2I_H  \n",
       "0    1.970821    0.813924  1.561648  0.500916  1.723598  0.487022  \n",
       "1    2.881360    1.684563  1.325506  0.437612  1.497912  0.413262  \n",
       "2    2.651478    1.343641  1.472760  0.506280  1.616737  0.464690  \n",
       "0    1.618602    0.884371  1.784167  0.447986  1.915577  0.457305  \n",
       "1    2.666156    1.412928  1.347305  0.437703  1.508528  0.405826  \n",
       "2    2.689891    1.558232  1.511898  0.536952  1.685784  0.507993  \n",
       "0    1.741417    0.885730  1.682619  0.493855  1.849934  0.491231  \n",
       "1    2.687325    1.430214  1.349456  0.428293  1.519167  0.406832  \n",
       "2    2.717142    1.575701  1.510150  0.556435  1.652011  0.509962  \n",
       "0    1.835936    1.043152  1.777375  0.484570  1.882353  0.482060  \n",
       "1    1.963381    0.813607  1.448861  0.469207  1.611134  0.444093  \n",
       "2    2.858530    1.549959  1.395793  0.480605  1.560192  0.451700  \n",
       "0    1.825275    0.932333  1.640435  0.560149  1.757000  0.500260  \n",
       "1    2.655926    1.489266  1.405476  0.459338  1.584333  0.462445  \n",
       "2    2.757712    1.454044  1.391639  0.476667  1.543802  0.424633  "
      ]
     },
     "execution_count": 20,
     "metadata": {},
     "output_type": "execute_result"
    }
   ],
   "source": [
    "tab6.iloc[:,[27,26,1,14,2,15,3,16,4,17,5,18,6,19,7,20,8,21]]"
   ]
  },
  {
   "cell_type": "markdown",
   "metadata": {},
   "source": [
    "### Maps"
   ]
  },
  {
   "cell_type": "code",
   "execution_count": 21,
   "metadata": {
    "ExecuteTime": {
     "end_time": "2022-04-23T12:28:30.557104Z",
     "start_time": "2022-04-23T12:28:30.480938Z"
    }
   },
   "outputs": [],
   "source": [
    "# load crosswalk\n",
    "cross = pd.read_csv('./data/cbsa_county.csv')\n",
    "cross['FIPS'] = cross.apply(lambda x: str(x['FIPS State Code']).zfill(2)+str(x['FIPS County Code']).zfill(3), axis = 1) \n",
    "cross = cross.iloc[:,[0,1,6]]\n",
    "cross.columns = ['cbsa','MSA','FIPS']\n",
    "\n",
    "# load MSA feature\n",
    "MSA_list.cbsa = MSA_list.cbsa.astype(int)\n",
    "\n",
    "# merge data\n",
    "cross = pd.merge(cross,MSA_list.loc[:,['cbsa','H=1','H=6','H=12','H=18','H=24']],how='outer',on='cbsa',indicator=True)\n",
    "\n",
    "# keep only 382 MSAs used\n",
    "cross = cross[cross._merge=='both']\n",
    "cross = cross.drop(columns='_merge')"
   ]
  },
  {
   "cell_type": "code",
   "execution_count": null,
   "metadata": {
    "ExecuteTime": {
     "end_time": "2022-04-23T12:30:39.206548Z",
     "start_time": "2022-04-23T12:30:31.911234Z"
    }
   },
   "outputs": [],
   "source": [
    "# plot mappings for G3 G4 using FIPS\n",
    "# colorscale = [\"#f7fbff\",\"#ebf3fb\",\"#deebf7\",\"#d2e3f3\",\"#c6dbef\",\"#b3d2e9\",\"#9ecae1\",\n",
    "#               \"#85bcdb\",\"#6baed6\",\"#57a0ce\",\"#4292c6\",\"#3082be\",\"#2171b5\",\"#1361a9\",\n",
    "#               \"#08519c\",\"#0b4083\",\"#08306b\"]\n",
    "\n",
    "colorscale = [\"#08306b\",\"#3082be\",\"#c6dbef\"]\n",
    "\n",
    "fips = cross['FIPS'].tolist()\n",
    "values = cross['H=1'].astype(int).tolist()\n",
    "\n",
    "fig = ff.create_choropleth(\n",
    "    fips=fips, values=values,\n",
    "    colorscale=colorscale,\n",
    "    show_hover=True, \n",
    "    centroid_marker={'opacity': 0},\n",
    "    asp=2.9,\n",
    "    state_outline={'color': 'rgb(0,0,0)', 'width': 0.5},\n",
    "    county_outline={'color': 'rgb(255,255,255)', 'width': 0.5},\n",
    ")\n",
    "\n",
    "fig.layout.template = None\n",
    "fig.show()"
   ]
  },
  {
   "cell_type": "code",
   "execution_count": null,
   "metadata": {},
   "outputs": [],
   "source": []
  }
 ],
 "metadata": {
  "kernelspec": {
   "display_name": "Python 3 (ipykernel)",
   "language": "python",
   "name": "python3"
  },
  "language_info": {
   "codemirror_mode": {
    "name": "ipython",
    "version": 3
   },
   "file_extension": ".py",
   "mimetype": "text/x-python",
   "name": "python",
   "nbconvert_exporter": "python",
   "pygments_lexer": "ipython3",
   "version": "3.8.13"
  },
  "toc": {
   "base_numbering": 1,
   "nav_menu": {},
   "number_sections": true,
   "sideBar": true,
   "skip_h1_title": false,
   "title_cell": "Table of Contents",
   "title_sidebar": "Contents",
   "toc_cell": false,
   "toc_position": {},
   "toc_section_display": true,
   "toc_window_display": false
  },
  "varInspector": {
   "cols": {
    "lenName": 16,
    "lenType": 16,
    "lenVar": 40
   },
   "kernels_config": {
    "python": {
     "delete_cmd_postfix": "",
     "delete_cmd_prefix": "del ",
     "library": "var_list.py",
     "varRefreshCmd": "print(var_dic_list())"
    },
    "r": {
     "delete_cmd_postfix": ") ",
     "delete_cmd_prefix": "rm(",
     "library": "var_list.r",
     "varRefreshCmd": "cat(var_dic_list()) "
    }
   },
   "types_to_exclude": [
    "module",
    "function",
    "builtin_function_or_method",
    "instance",
    "_Feature"
   ],
   "window_display": false
  }
 },
 "nbformat": 4,
 "nbformat_minor": 2
}
